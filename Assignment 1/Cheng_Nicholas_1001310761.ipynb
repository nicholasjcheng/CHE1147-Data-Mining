{
  "nbformat": 4,
  "nbformat_minor": 0,
  "metadata": {
    "colab": {
      "name": "Cheng_Nicholas_1001310761.ipynb",
      "provenance": [],
      "collapsed_sections": [
        "lTAm4634A7m1"
      ],
      "toc_visible": true
    },
    "kernelspec": {
      "name": "python3",
      "display_name": "Python 3"
    }
  },
  "cells": [
    {
      "cell_type": "markdown",
      "metadata": {
        "id": "tJRTVB5OQ18e"
      },
      "source": [
        "#CHE1147 Assignment 1\n",
        "#Nicholas Jalen Cheng\n",
        "# 1001310761 "
      ]
    },
    {
      "cell_type": "markdown",
      "metadata": {
        "id": "d7zpJt88-Kwx"
      },
      "source": [
        "#1 Python data structures and other essentials"
      ]
    },
    {
      "cell_type": "markdown",
      "metadata": {
        "id": "r5GACZi1-PQ0"
      },
      "source": [
        "## 1.1 Tuples"
      ]
    },
    {
      "cell_type": "markdown",
      "metadata": {
        "id": "QQNChR52ruUu"
      },
      "source": [
        "### Question 1"
      ]
    },
    {
      "cell_type": "code",
      "metadata": {
        "id": "DFTBkBSN9_KE"
      },
      "source": [
        "apps_tuple = (\"Google\", \"Facebook\", \"Amazon\",\"Netflix\",\"AirBnB\",\"Instagram\")"
      ],
      "execution_count": 1,
      "outputs": []
    },
    {
      "cell_type": "code",
      "metadata": {
        "colab": {
          "base_uri": "https://localhost:8080/"
        },
        "id": "KBbI1PLlsME7",
        "outputId": "69ed6859-c6f2-4ce1-ef5f-6e8a9b573387"
      },
      "source": [
        "type(apps_tuple)"
      ],
      "execution_count": 2,
      "outputs": [
        {
          "output_type": "execute_result",
          "data": {
            "text/plain": [
              "tuple"
            ]
          },
          "metadata": {
            "tags": []
          },
          "execution_count": 2
        }
      ]
    },
    {
      "cell_type": "markdown",
      "metadata": {
        "id": "ZHsLvo5KrwdD"
      },
      "source": [
        "### Question 2"
      ]
    },
    {
      "cell_type": "code",
      "metadata": {
        "colab": {
          "base_uri": "https://localhost:8080/"
        },
        "id": "huCs-mJC-jKA",
        "outputId": "50ebe978-947e-478b-9576-07b9b838094c"
      },
      "source": [
        "second = apps_tuple[1]\n",
        "print(second)"
      ],
      "execution_count": 3,
      "outputs": [
        {
          "output_type": "stream",
          "text": [
            "Facebook\n"
          ],
          "name": "stdout"
        }
      ]
    },
    {
      "cell_type": "code",
      "metadata": {
        "colab": {
          "base_uri": "https://localhost:8080/"
        },
        "id": "MSeytZ0I-xlR",
        "outputId": "836c03dd-afe4-413a-96e5-99d0fb556cad"
      },
      "source": [
        "last = apps_tuple[-1]\n",
        "print(last)"
      ],
      "execution_count": 4,
      "outputs": [
        {
          "output_type": "stream",
          "text": [
            "Instagram\n"
          ],
          "name": "stdout"
        }
      ]
    },
    {
      "cell_type": "markdown",
      "metadata": {
        "id": "mS88wS7VrybQ"
      },
      "source": [
        "### Question 3"
      ]
    },
    {
      "cell_type": "code",
      "metadata": {
        "colab": {
          "base_uri": "https://localhost:8080/"
        },
        "id": "QNl7WrA3-4bk",
        "outputId": "442f059f-2095-4c7e-f0e4-fd6fc1a939c6"
      },
      "source": [
        "sliced = apps_tuple[1:4]\n",
        "print(sliced)"
      ],
      "execution_count": 5,
      "outputs": [
        {
          "output_type": "stream",
          "text": [
            "('Facebook', 'Amazon', 'Netflix')\n"
          ],
          "name": "stdout"
        }
      ]
    },
    {
      "cell_type": "markdown",
      "metadata": {
        "id": "phKDFuMjrz2g"
      },
      "source": [
        "### Question 4"
      ]
    },
    {
      "cell_type": "code",
      "metadata": {
        "colab": {
          "base_uri": "https://localhost:8080/",
          "height": 168
        },
        "id": "ZLluMfKNsUtQ",
        "outputId": "5d55e11b-fe86-4a20-9dcb-f1d0e0bef588"
      },
      "source": [
        "apps_tuple[6] = \"Messenger\""
      ],
      "execution_count": 6,
      "outputs": [
        {
          "output_type": "error",
          "ename": "TypeError",
          "evalue": "ignored",
          "traceback": [
            "\u001b[0;31m---------------------------------------------------------------------------\u001b[0m",
            "\u001b[0;31mTypeError\u001b[0m                                 Traceback (most recent call last)",
            "\u001b[0;32m<ipython-input-6-855272a448b9>\u001b[0m in \u001b[0;36m<module>\u001b[0;34m()\u001b[0m\n\u001b[0;32m----> 1\u001b[0;31m \u001b[0mapps_tuple\u001b[0m\u001b[0;34m[\u001b[0m\u001b[0;36m6\u001b[0m\u001b[0;34m]\u001b[0m \u001b[0;34m=\u001b[0m \u001b[0;34m\"Messenger\"\u001b[0m\u001b[0;34m\u001b[0m\u001b[0;34m\u001b[0m\u001b[0m\n\u001b[0m",
            "\u001b[0;31mTypeError\u001b[0m: 'tuple' object does not support item assignment"
          ]
        }
      ]
    },
    {
      "cell_type": "markdown",
      "metadata": {
        "id": "lRb6YCwM_2sU"
      },
      "source": [
        "\"Messanger\" can't be appended to the apps_tuple, because tuples are immutable. Once a tuple is defined it can't be modified."
      ]
    },
    {
      "cell_type": "markdown",
      "metadata": {
        "id": "C48TiO24AOzU"
      },
      "source": [
        "##1.2 Lists"
      ]
    },
    {
      "cell_type": "markdown",
      "metadata": {
        "id": "oZrPExn5s2lA"
      },
      "source": [
        "### Question 1"
      ]
    },
    {
      "cell_type": "code",
      "metadata": {
        "id": "OBc6_w0OAPzd",
        "colab": {
          "base_uri": "https://localhost:8080/"
        },
        "outputId": "bafd48ad-0172-466c-9870-c036194036da"
      },
      "source": [
        "apps_list = [\"Google\", \"Facebook\", \"Amazon\",\"Netflix\",\"AirBnB\",\"Instagram\"]\n",
        "print(apps_list)\n",
        "type(apps_list)"
      ],
      "execution_count": 7,
      "outputs": [
        {
          "output_type": "stream",
          "text": [
            "['Google', 'Facebook', 'Amazon', 'Netflix', 'AirBnB', 'Instagram']\n"
          ],
          "name": "stdout"
        },
        {
          "output_type": "execute_result",
          "data": {
            "text/plain": [
              "list"
            ]
          },
          "metadata": {
            "tags": []
          },
          "execution_count": 7
        }
      ]
    },
    {
      "cell_type": "markdown",
      "metadata": {
        "id": "CI6G0k8Xs38C"
      },
      "source": [
        "### Question 2"
      ]
    },
    {
      "cell_type": "code",
      "metadata": {
        "id": "oJdPojesAbJy",
        "colab": {
          "base_uri": "https://localhost:8080/"
        },
        "outputId": "4913fd50-dfe1-456f-e37d-7006fe8323f4"
      },
      "source": [
        "apps_first_three = apps_list[:3]\n",
        "print(apps_first_three)"
      ],
      "execution_count": 8,
      "outputs": [
        {
          "output_type": "stream",
          "text": [
            "['Google', 'Facebook', 'Amazon']\n"
          ],
          "name": "stdout"
        }
      ]
    },
    {
      "cell_type": "markdown",
      "metadata": {
        "id": "wsPI99Ihs6GO"
      },
      "source": [
        "### Question 3"
      ]
    },
    {
      "cell_type": "code",
      "metadata": {
        "colab": {
          "base_uri": "https://localhost:8080/"
        },
        "id": "Lb0FHDP3s65Z",
        "outputId": "e90c1166-698d-4a59-8bbf-d4fa13581197"
      },
      "source": [
        "apps_after_three = apps_list[3:]\n",
        "print(apps_after_three)"
      ],
      "execution_count": 9,
      "outputs": [
        {
          "output_type": "stream",
          "text": [
            "['Netflix', 'AirBnB', 'Instagram']\n"
          ],
          "name": "stdout"
        }
      ]
    },
    {
      "cell_type": "markdown",
      "metadata": {
        "id": "dXZ8J4BptK0_"
      },
      "source": [
        "### Question 4"
      ]
    },
    {
      "cell_type": "code",
      "metadata": {
        "colab": {
          "base_uri": "https://localhost:8080/"
        },
        "id": "QYUdl0GwtOvn",
        "outputId": "86811f7d-7744-4c93-cec6-fba91e0ed938"
      },
      "source": [
        "apps_list.append(\"Messenger\")\n",
        "print(apps_list)"
      ],
      "execution_count": 10,
      "outputs": [
        {
          "output_type": "stream",
          "text": [
            "['Google', 'Facebook', 'Amazon', 'Netflix', 'AirBnB', 'Instagram', 'Messenger']\n"
          ],
          "name": "stdout"
        }
      ]
    },
    {
      "cell_type": "code",
      "metadata": {
        "colab": {
          "base_uri": "https://localhost:8080/"
        },
        "id": "AKw637nCt7tE",
        "outputId": "b6402c25-6c55-4712-afe1-34006c6c3c76"
      },
      "source": [
        "apps_list.insert(1,\"Youtube\")\n",
        "print(apps_list)"
      ],
      "execution_count": 11,
      "outputs": [
        {
          "output_type": "stream",
          "text": [
            "['Google', 'Youtube', 'Facebook', 'Amazon', 'Netflix', 'AirBnB', 'Instagram', 'Messenger']\n"
          ],
          "name": "stdout"
        }
      ]
    },
    {
      "cell_type": "markdown",
      "metadata": {
        "id": "yATXcb9iuI5i"
      },
      "source": [
        "### Question 5"
      ]
    },
    {
      "cell_type": "code",
      "metadata": {
        "colab": {
          "base_uri": "https://localhost:8080/"
        },
        "id": "7H_omNgEuJ69",
        "outputId": "8c3d8675-3970-4497-a127-833593aa3779"
      },
      "source": [
        "apps_list.remove(\"Facebook\")\n",
        "print(apps_list)"
      ],
      "execution_count": 12,
      "outputs": [
        {
          "output_type": "stream",
          "text": [
            "['Google', 'Youtube', 'Amazon', 'Netflix', 'AirBnB', 'Instagram', 'Messenger']\n"
          ],
          "name": "stdout"
        }
      ]
    },
    {
      "cell_type": "code",
      "metadata": {
        "colab": {
          "base_uri": "https://localhost:8080/"
        },
        "id": "vlkBOB2gua1Z",
        "outputId": "ce6cebd1-1d0d-48f2-b44b-c2c74e06dd42"
      },
      "source": [
        "check = \"Facebook\" in apps_list\n",
        "print(check)"
      ],
      "execution_count": 13,
      "outputs": [
        {
          "output_type": "stream",
          "text": [
            "False\n"
          ],
          "name": "stdout"
        }
      ]
    },
    {
      "cell_type": "markdown",
      "metadata": {
        "id": "dNBzMdgnuhZb"
      },
      "source": [
        "### Question 6"
      ]
    },
    {
      "cell_type": "code",
      "metadata": {
        "colab": {
          "base_uri": "https://localhost:8080/"
        },
        "id": "bJgVw_VVuikm",
        "outputId": "be200a90-7240-430c-cc1e-8fccb82b6544"
      },
      "source": [
        "apps_list.extend([\"Linkedin\",\"Twitter\"])\n",
        "print(apps_list)"
      ],
      "execution_count": 14,
      "outputs": [
        {
          "output_type": "stream",
          "text": [
            "['Google', 'Youtube', 'Amazon', 'Netflix', 'AirBnB', 'Instagram', 'Messenger', 'Linkedin', 'Twitter']\n"
          ],
          "name": "stdout"
        }
      ]
    },
    {
      "cell_type": "markdown",
      "metadata": {
        "id": "j3hD6r2mExSy"
      },
      "source": [
        "##1.3 Dicts"
      ]
    },
    {
      "cell_type": "markdown",
      "metadata": {
        "id": "GMo5sZ7Wz0gp"
      },
      "source": [
        "### Question 1"
      ]
    },
    {
      "cell_type": "code",
      "metadata": {
        "colab": {
          "base_uri": "https://localhost:8080/"
        },
        "id": "z-lOzCdHydS8",
        "outputId": "ec0fafc0-b3e0-472f-eb9b-5ddc3fd16422"
      },
      "source": [
        "apps_dict = {\"app0\":\"Google\",\"app1\":\"Facebook\",\"app2\":\"Amazon\",\"app3\":\"Netflix\",\"app4\":\"AirBnB\", \"app5\":\"Instagram\"}\n",
        "print(apps_dict)\n",
        "type(apps_dict)"
      ],
      "execution_count": 15,
      "outputs": [
        {
          "output_type": "stream",
          "text": [
            "{'app0': 'Google', 'app1': 'Facebook', 'app2': 'Amazon', 'app3': 'Netflix', 'app4': 'AirBnB', 'app5': 'Instagram'}\n"
          ],
          "name": "stdout"
        },
        {
          "output_type": "execute_result",
          "data": {
            "text/plain": [
              "dict"
            ]
          },
          "metadata": {
            "tags": []
          },
          "execution_count": 15
        }
      ]
    },
    {
      "cell_type": "markdown",
      "metadata": {
        "id": "42hS-Z5_z1jS"
      },
      "source": [
        "### Question 2"
      ]
    },
    {
      "cell_type": "code",
      "metadata": {
        "colab": {
          "base_uri": "https://localhost:8080/"
        },
        "id": "OA4o4BO0z9oj",
        "outputId": "7e4c093e-4d81-416d-d2c1-deb22a02cd8b"
      },
      "source": [
        "apps_dict[\"app1\"] = \"Youtube\"\n",
        "print(apps_dict)"
      ],
      "execution_count": 16,
      "outputs": [
        {
          "output_type": "stream",
          "text": [
            "{'app0': 'Google', 'app1': 'Youtube', 'app2': 'Amazon', 'app3': 'Netflix', 'app4': 'AirBnB', 'app5': 'Instagram'}\n"
          ],
          "name": "stdout"
        }
      ]
    },
    {
      "cell_type": "markdown",
      "metadata": {
        "id": "2SWKBrENz2zO"
      },
      "source": [
        "### Question 3"
      ]
    },
    {
      "cell_type": "code",
      "metadata": {
        "colab": {
          "base_uri": "https://localhost:8080/"
        },
        "id": "k4-uQQwF0JGJ",
        "outputId": "640f67fa-45e9-43fe-d82f-7e917e4984a7"
      },
      "source": [
        "apps_dict[\"app6\"] = \"Messenger\"\n",
        "print(apps_dict)"
      ],
      "execution_count": 17,
      "outputs": [
        {
          "output_type": "stream",
          "text": [
            "{'app0': 'Google', 'app1': 'Youtube', 'app2': 'Amazon', 'app3': 'Netflix', 'app4': 'AirBnB', 'app5': 'Instagram', 'app6': 'Messenger'}\n"
          ],
          "name": "stdout"
        }
      ]
    },
    {
      "cell_type": "markdown",
      "metadata": {
        "id": "BdUM6XdQz3n-"
      },
      "source": [
        "### Question 4"
      ]
    },
    {
      "cell_type": "code",
      "metadata": {
        "colab": {
          "base_uri": "https://localhost:8080/"
        },
        "id": "mgeoFq340VoJ",
        "outputId": "788c3746-3f11-4580-f399-22729047eb53"
      },
      "source": [
        "apps_dict[\"app1\"] = \"Messenger\"\n",
        "print(apps_dict)"
      ],
      "execution_count": 18,
      "outputs": [
        {
          "output_type": "stream",
          "text": [
            "{'app0': 'Google', 'app1': 'Messenger', 'app2': 'Amazon', 'app3': 'Netflix', 'app4': 'AirBnB', 'app5': 'Instagram', 'app6': 'Messenger'}\n"
          ],
          "name": "stdout"
        }
      ]
    },
    {
      "cell_type": "markdown",
      "metadata": {
        "id": "hBuP6A8s0Uo_"
      },
      "source": [
        "It changes the value for key \"app1\" from \"Youtube\" to \"Messenger\""
      ]
    },
    {
      "cell_type": "markdown",
      "metadata": {
        "id": "zh1WWzqVz4cl"
      },
      "source": [
        "### Question 5"
      ]
    },
    {
      "cell_type": "code",
      "metadata": {
        "colab": {
          "base_uri": "https://localhost:8080/"
        },
        "id": "kvFUIpx_0rIT",
        "outputId": "54385eba-6cd4-4559-deee-799d2e090035"
      },
      "source": [
        "apps_dict[\"App1\"] = \"Facebook\"\n",
        "print(apps_dict)"
      ],
      "execution_count": 19,
      "outputs": [
        {
          "output_type": "stream",
          "text": [
            "{'app0': 'Google', 'app1': 'Messenger', 'app2': 'Amazon', 'app3': 'Netflix', 'app4': 'AirBnB', 'app5': 'Instagram', 'app6': 'Messenger', 'App1': 'Facebook'}\n"
          ],
          "name": "stdout"
        }
      ]
    },
    {
      "cell_type": "markdown",
      "metadata": {
        "id": "_3baWxh50wG4"
      },
      "source": [
        "It creates another key \"App1\" with value \"Facebook\" in the dictionary, because \"App1\" is unique. \"App1\" and \"app1\" are not the same therefore can act as seperate keys in a single dictionary"
      ]
    },
    {
      "cell_type": "markdown",
      "metadata": {
        "id": "pjK82UNlz5vD"
      },
      "source": [
        "### Question 6"
      ]
    },
    {
      "cell_type": "code",
      "metadata": {
        "colab": {
          "base_uri": "https://localhost:8080/"
        },
        "id": "-k3-nM0_1JP_",
        "outputId": "a8379a50-4bb5-45ed-d143-d22e0b4a0247"
      },
      "source": [
        "del apps_dict[\"App1\"]\n",
        "print(apps_dict)"
      ],
      "execution_count": 20,
      "outputs": [
        {
          "output_type": "stream",
          "text": [
            "{'app0': 'Google', 'app1': 'Messenger', 'app2': 'Amazon', 'app3': 'Netflix', 'app4': 'AirBnB', 'app5': 'Instagram', 'app6': 'Messenger'}\n"
          ],
          "name": "stdout"
        }
      ]
    },
    {
      "cell_type": "markdown",
      "metadata": {
        "id": "8E1k_h6m1Tpd"
      },
      "source": [
        "It removes the key value pair for \"App1\" in the dictionary"
      ]
    },
    {
      "cell_type": "markdown",
      "metadata": {
        "id": "7R6WetB1E0g3"
      },
      "source": [
        "## 1.4 List comprehension"
      ]
    },
    {
      "cell_type": "markdown",
      "metadata": {
        "id": "0ldj6HpY4doa"
      },
      "source": [
        "### Question 1"
      ]
    },
    {
      "cell_type": "code",
      "metadata": {
        "id": "WXVbiqPlFBnI",
        "colab": {
          "base_uri": "https://localhost:8080/"
        },
        "outputId": "7349caaa-ff02-4b9a-b4cd-14ee7c3daa8e"
      },
      "source": [
        "values = [7,12,9,18,15]\n",
        "print(values)\n",
        "type(values)"
      ],
      "execution_count": 21,
      "outputs": [
        {
          "output_type": "stream",
          "text": [
            "[7, 12, 9, 18, 15]\n"
          ],
          "name": "stdout"
        },
        {
          "output_type": "execute_result",
          "data": {
            "text/plain": [
              "list"
            ]
          },
          "metadata": {
            "tags": []
          },
          "execution_count": 21
        }
      ]
    },
    {
      "cell_type": "markdown",
      "metadata": {
        "id": "Tr_7lIJ64ffp"
      },
      "source": [
        "### Question 2"
      ]
    },
    {
      "cell_type": "code",
      "metadata": {
        "colab": {
          "base_uri": "https://localhost:8080/"
        },
        "id": "OPy74GNEO_n_",
        "outputId": "dd803c94-aac6-4f69-c232-97ab3657484b"
      },
      "source": [
        "squared = [x*x for x in values]\n",
        "print(squared)\n",
        "type(squared)"
      ],
      "execution_count": 22,
      "outputs": [
        {
          "output_type": "stream",
          "text": [
            "[49, 144, 81, 324, 225]\n"
          ],
          "name": "stdout"
        },
        {
          "output_type": "execute_result",
          "data": {
            "text/plain": [
              "list"
            ]
          },
          "metadata": {
            "tags": []
          },
          "execution_count": 22
        }
      ]
    },
    {
      "cell_type": "code",
      "metadata": {
        "colab": {
          "base_uri": "https://localhost:8080/"
        },
        "id": "n9w4Z7CcFK1I",
        "outputId": "8d40011c-3107-457f-87e6-fe83575c2c10"
      },
      "source": [
        "squared = list(map(lambda x: x*x, values))\n",
        "print(squared)\n",
        "type(squared)"
      ],
      "execution_count": 23,
      "outputs": [
        {
          "output_type": "stream",
          "text": [
            "[49, 144, 81, 324, 225]\n"
          ],
          "name": "stdout"
        },
        {
          "output_type": "execute_result",
          "data": {
            "text/plain": [
              "list"
            ]
          },
          "metadata": {
            "tags": []
          },
          "execution_count": 23
        }
      ]
    },
    {
      "cell_type": "markdown",
      "metadata": {
        "id": "Wfxf6vTcE4Jt"
      },
      "source": [
        "## 1.5 Functions and control flow"
      ]
    },
    {
      "cell_type": "code",
      "metadata": {
        "id": "ziVdoKA5BE1M"
      },
      "source": [
        "import numpy as np"
      ],
      "execution_count": 24,
      "outputs": []
    },
    {
      "cell_type": "markdown",
      "metadata": {
        "id": "wadz5Lm14hGJ"
      },
      "source": [
        "### Question 1"
      ]
    },
    {
      "cell_type": "code",
      "metadata": {
        "colab": {
          "base_uri": "https://localhost:8080/"
        },
        "id": "Ny4m_RODFmqa",
        "outputId": "9466e37f-048d-4cc8-9ce5-547e7361590b"
      },
      "source": [
        "sample = np.random.randint(600,900,10)\n",
        "print(sample)"
      ],
      "execution_count": 25,
      "outputs": [
        {
          "output_type": "stream",
          "text": [
            "[705 752 687 857 871 651 714 844 774 852]\n"
          ],
          "name": "stdout"
        }
      ]
    },
    {
      "cell_type": "markdown",
      "metadata": {
        "id": "xlLGlcRf4iAx"
      },
      "source": [
        "### Question 2"
      ]
    },
    {
      "cell_type": "markdown",
      "metadata": {
        "id": "gCbCQrMDQQdS"
      },
      "source": [
        "Since the wording of the question is reads the \"sample\" and in 1.5.1 \"sample\" refers to 10 random integers; an assumption is made that the function created has a list as an input."
      ]
    },
    {
      "cell_type": "code",
      "metadata": {
        "id": "SzTPoN0oGIeZ"
      },
      "source": [
        "def credit_score(sample):\n",
        "  output_list = []\n",
        "  for x in sample:\n",
        "    if x <=699:\n",
        "      output_list.append(\"Low\")\n",
        "    elif x <=799:\n",
        "      output_list.append(\"Medium\")\n",
        "    else:\n",
        "      output_list.append(\"High\")\n",
        "  return output_list"
      ],
      "execution_count": 26,
      "outputs": []
    },
    {
      "cell_type": "code",
      "metadata": {
        "colab": {
          "base_uri": "https://localhost:8080/"
        },
        "id": "FLn9GuPB4Z8a",
        "outputId": "61880182-750c-471d-a568-bef330379724"
      },
      "source": [
        "output = credit_score(sample)\n",
        "print(output)"
      ],
      "execution_count": 27,
      "outputs": [
        {
          "output_type": "stream",
          "text": [
            "['Medium', 'Medium', 'Low', 'High', 'High', 'Low', 'Medium', 'High', 'Medium', 'High']\n"
          ],
          "name": "stdout"
        }
      ]
    },
    {
      "cell_type": "markdown",
      "metadata": {
        "id": "nwWwOCKQA26t"
      },
      "source": [
        "# 2 Linear algebra in Numpy"
      ]
    },
    {
      "cell_type": "markdown",
      "metadata": {
        "id": "lTAm4634A7m1"
      },
      "source": [
        "##2.1 Matrix calculations"
      ]
    },
    {
      "cell_type": "markdown",
      "metadata": {
        "id": "UY90weqo49MF"
      },
      "source": [
        "### Question 1"
      ]
    },
    {
      "cell_type": "markdown",
      "metadata": {
        "id": "wGmo3wc9LzW7"
      },
      "source": [
        "Create matrix A and B"
      ]
    },
    {
      "cell_type": "code",
      "metadata": {
        "id": "taZFxcVKA4e-",
        "colab": {
          "base_uri": "https://localhost:8080/"
        },
        "outputId": "28b2787e-70b5-4071-b84c-aaa7c1e7e0c0"
      },
      "source": [
        "A = np.array([[2,1],[1,1],[2,3]])\n",
        "print(A)\n",
        "type(A)"
      ],
      "execution_count": 28,
      "outputs": [
        {
          "output_type": "stream",
          "text": [
            "[[2 1]\n",
            " [1 1]\n",
            " [2 3]]\n"
          ],
          "name": "stdout"
        },
        {
          "output_type": "execute_result",
          "data": {
            "text/plain": [
              "numpy.ndarray"
            ]
          },
          "metadata": {
            "tags": []
          },
          "execution_count": 28
        }
      ]
    },
    {
      "cell_type": "code",
      "metadata": {
        "colab": {
          "base_uri": "https://localhost:8080/"
        },
        "id": "FIOotjEKEleg",
        "outputId": "a20adb75-cb2a-4e10-daf1-7e0c07eda94f"
      },
      "source": [
        "B = np.array([[-4,1],[3,-1],[-2,1]])\n",
        "print(B)\n",
        "type(B)"
      ],
      "execution_count": 29,
      "outputs": [
        {
          "output_type": "stream",
          "text": [
            "[[-4  1]\n",
            " [ 3 -1]\n",
            " [-2  1]]\n"
          ],
          "name": "stdout"
        },
        {
          "output_type": "execute_result",
          "data": {
            "text/plain": [
              "numpy.ndarray"
            ]
          },
          "metadata": {
            "tags": []
          },
          "execution_count": 29
        }
      ]
    },
    {
      "cell_type": "markdown",
      "metadata": {
        "id": "qTAF0kIRLx8y"
      },
      "source": [
        "2A"
      ]
    },
    {
      "cell_type": "code",
      "metadata": {
        "colab": {
          "base_uri": "https://localhost:8080/"
        },
        "id": "ZsQkykWgBcol",
        "outputId": "f8e77e09-8609-4878-df88-0e1c21af6b1d"
      },
      "source": [
        "print(2*A)"
      ],
      "execution_count": 30,
      "outputs": [
        {
          "output_type": "stream",
          "text": [
            "[[4 2]\n",
            " [2 2]\n",
            " [4 6]]\n"
          ],
          "name": "stdout"
        }
      ]
    },
    {
      "cell_type": "markdown",
      "metadata": {
        "id": "fshfamw4L2Q-"
      },
      "source": [
        "-3B"
      ]
    },
    {
      "cell_type": "code",
      "metadata": {
        "colab": {
          "base_uri": "https://localhost:8080/"
        },
        "id": "11NK2FwlBlSP",
        "outputId": "76a089da-fca9-4807-abc9-15defafa2aba"
      },
      "source": [
        "print(-3*B)"
      ],
      "execution_count": 31,
      "outputs": [
        {
          "output_type": "stream",
          "text": [
            "[[12 -3]\n",
            " [-9  3]\n",
            " [ 6 -3]]\n"
          ],
          "name": "stdout"
        }
      ]
    },
    {
      "cell_type": "markdown",
      "metadata": {
        "id": "z4JhVxsrL31p"
      },
      "source": [
        "A+B"
      ]
    },
    {
      "cell_type": "code",
      "metadata": {
        "colab": {
          "base_uri": "https://localhost:8080/"
        },
        "id": "fQPgpyOCBn1C",
        "outputId": "46882317-4194-48a0-d4e3-a3455ce957a0"
      },
      "source": [
        "print(A+B)"
      ],
      "execution_count": 32,
      "outputs": [
        {
          "output_type": "stream",
          "text": [
            "[[-2  2]\n",
            " [ 4  0]\n",
            " [ 0  4]]\n"
          ],
          "name": "stdout"
        }
      ]
    },
    {
      "cell_type": "markdown",
      "metadata": {
        "id": "dRmZx5XN5AsO"
      },
      "source": [
        "### Question 2"
      ]
    },
    {
      "cell_type": "markdown",
      "metadata": {
        "id": "st6cfO-kMMqy"
      },
      "source": [
        "Create matrix A and B"
      ]
    },
    {
      "cell_type": "code",
      "metadata": {
        "id": "MuOhBpWUB3G5",
        "colab": {
          "base_uri": "https://localhost:8080/"
        },
        "outputId": "ab91f574-6ea9-4166-d847-02f1b0121c45"
      },
      "source": [
        "A = np.array([[2,-6],[-4,0],[1,5]])\n",
        "print(A)\n",
        "type(A)"
      ],
      "execution_count": 33,
      "outputs": [
        {
          "output_type": "stream",
          "text": [
            "[[ 2 -6]\n",
            " [-4  0]\n",
            " [ 1  5]]\n"
          ],
          "name": "stdout"
        },
        {
          "output_type": "execute_result",
          "data": {
            "text/plain": [
              "numpy.ndarray"
            ]
          },
          "metadata": {
            "tags": []
          },
          "execution_count": 33
        }
      ]
    },
    {
      "cell_type": "code",
      "metadata": {
        "colab": {
          "base_uri": "https://localhost:8080/"
        },
        "id": "RNmh1es5F0Hm",
        "outputId": "190420a5-aecc-450c-a38b-e80d44a93924"
      },
      "source": [
        "B = np.array([[1,1],[2,3]])\n",
        "print(B)\n",
        "type(B)"
      ],
      "execution_count": 34,
      "outputs": [
        {
          "output_type": "stream",
          "text": [
            "[[1 1]\n",
            " [2 3]]\n"
          ],
          "name": "stdout"
        },
        {
          "output_type": "execute_result",
          "data": {
            "text/plain": [
              "numpy.ndarray"
            ]
          },
          "metadata": {
            "tags": []
          },
          "execution_count": 34
        }
      ]
    },
    {
      "cell_type": "markdown",
      "metadata": {
        "id": "c46SR1mwMPFW"
      },
      "source": [
        "Dot product between A and B"
      ]
    },
    {
      "cell_type": "code",
      "metadata": {
        "colab": {
          "base_uri": "https://localhost:8080/"
        },
        "id": "E2FP862rBrDx",
        "outputId": "0169dd1a-d9cf-4e16-9923-12cebd81178f"
      },
      "source": [
        "print(np.dot(A,B))"
      ],
      "execution_count": 35,
      "outputs": [
        {
          "output_type": "stream",
          "text": [
            "[[-10 -16]\n",
            " [ -4  -4]\n",
            " [ 11  16]]\n"
          ],
          "name": "stdout"
        }
      ]
    },
    {
      "cell_type": "markdown",
      "metadata": {
        "id": "bNFvBtQ-McYG"
      },
      "source": [
        "Inverse of B"
      ]
    },
    {
      "cell_type": "code",
      "metadata": {
        "colab": {
          "base_uri": "https://localhost:8080/"
        },
        "id": "rsAV1pwmBzGR",
        "outputId": "8f2b103d-7612-4895-9b3c-1cbfec835aed"
      },
      "source": [
        "print(np.linalg.inv(B))"
      ],
      "execution_count": 36,
      "outputs": [
        {
          "output_type": "stream",
          "text": [
            "[[ 3. -1.]\n",
            " [-2.  1.]]\n"
          ],
          "name": "stdout"
        }
      ]
    },
    {
      "cell_type": "markdown",
      "metadata": {
        "id": "1SZNQOAm5DiN"
      },
      "source": [
        "### Question 3"
      ]
    },
    {
      "cell_type": "markdown",
      "metadata": {
        "id": "-_T9nrslMfph"
      },
      "source": [
        "Create Matrix A"
      ]
    },
    {
      "cell_type": "code",
      "metadata": {
        "colab": {
          "base_uri": "https://localhost:8080/"
        },
        "id": "ZPoHlSxdGCaB",
        "outputId": "eeaa73a4-e768-405d-8474-e6c0fa95d1f4"
      },
      "source": [
        "A = np.array([[1,0,4,1],[-2,1,-3,2],[0,0,0,2],[3,2,1,-1]])\n",
        "print(A)\n",
        "type(A)"
      ],
      "execution_count": 37,
      "outputs": [
        {
          "output_type": "stream",
          "text": [
            "[[ 1  0  4  1]\n",
            " [-2  1 -3  2]\n",
            " [ 0  0  0  2]\n",
            " [ 3  2  1 -1]]\n"
          ],
          "name": "stdout"
        },
        {
          "output_type": "execute_result",
          "data": {
            "text/plain": [
              "numpy.ndarray"
            ]
          },
          "metadata": {
            "tags": []
          },
          "execution_count": 37
        }
      ]
    },
    {
      "cell_type": "markdown",
      "metadata": {
        "id": "Pm47xGCpMiz-"
      },
      "source": [
        "Replace values with ABS(value) >= 3 with 3"
      ]
    },
    {
      "cell_type": "code",
      "metadata": {
        "colab": {
          "base_uri": "https://localhost:8080/"
        },
        "id": "cLpFMdiQG7Bu",
        "outputId": "ea502712-61fc-4a15-c947-0c6ad92f8222"
      },
      "source": [
        "replace_abs = np.where(np.absolute(A) >= 3, 3, A)\n",
        "print(replace_abs)"
      ],
      "execution_count": 38,
      "outputs": [
        {
          "output_type": "stream",
          "text": [
            "[[ 1  0  3  1]\n",
            " [-2  1  3  2]\n",
            " [ 0  0  0  2]\n",
            " [ 3  2  1 -1]]\n"
          ],
          "name": "stdout"
        }
      ]
    },
    {
      "cell_type": "markdown",
      "metadata": {
        "id": "5e2eKHAeMtP9"
      },
      "source": [
        "Determinant of A"
      ]
    },
    {
      "cell_type": "code",
      "metadata": {
        "colab": {
          "base_uri": "https://localhost:8080/"
        },
        "id": "RASgCrJXGcfQ",
        "outputId": "613b75ee-08b8-43ad-b391-d14872a1cc68"
      },
      "source": [
        "print(np.linalg.det(A))"
      ],
      "execution_count": 39,
      "outputs": [
        {
          "output_type": "stream",
          "text": [
            "42.00000000000001\n"
          ],
          "name": "stdout"
        }
      ]
    },
    {
      "cell_type": "markdown",
      "metadata": {
        "id": "8CmESqZ-BAVX"
      },
      "source": [
        "## 2.2 Norms and eigenvalues"
      ]
    },
    {
      "cell_type": "markdown",
      "metadata": {
        "id": "KwDWRVJ56Opi"
      },
      "source": [
        "### Question 1"
      ]
    },
    {
      "cell_type": "markdown",
      "metadata": {
        "id": "3PFPdxCPMzJk"
      },
      "source": [
        "Create matrix x1, x2, and x3"
      ]
    },
    {
      "cell_type": "code",
      "metadata": {
        "colab": {
          "base_uri": "https://localhost:8080/"
        },
        "id": "kl2FojKbIJS6",
        "outputId": "7b0a7784-3c23-4319-df55-7c84abddd344"
      },
      "source": [
        "x1 = np.transpose(np.array([[1,-2,3]]))\n",
        "print(x1)"
      ],
      "execution_count": 40,
      "outputs": [
        {
          "output_type": "stream",
          "text": [
            "[[ 1]\n",
            " [-2]\n",
            " [ 3]]\n"
          ],
          "name": "stdout"
        }
      ]
    },
    {
      "cell_type": "code",
      "metadata": {
        "colab": {
          "base_uri": "https://localhost:8080/"
        },
        "id": "lsCEKKTXIfSw",
        "outputId": "8ba60228-bc93-4f9f-b861-8746cb586a9c"
      },
      "source": [
        "x2 = np.transpose(np.array([[2,0,-1,2]]))\n",
        "print(x2)"
      ],
      "execution_count": 41,
      "outputs": [
        {
          "output_type": "stream",
          "text": [
            "[[ 2]\n",
            " [ 0]\n",
            " [-1]\n",
            " [ 2]]\n"
          ],
          "name": "stdout"
        }
      ]
    },
    {
      "cell_type": "code",
      "metadata": {
        "colab": {
          "base_uri": "https://localhost:8080/"
        },
        "id": "dM0u8pKCIfpF",
        "outputId": "baef2a12-d26b-4268-93eb-0f85f5bda380"
      },
      "source": [
        "x3 = np.transpose(np.array([[0,1,-4,2,-1]]))\n",
        "print(x3)"
      ],
      "execution_count": 42,
      "outputs": [
        {
          "output_type": "stream",
          "text": [
            "[[ 0]\n",
            " [ 1]\n",
            " [-4]\n",
            " [ 2]\n",
            " [-1]]\n"
          ],
          "name": "stdout"
        }
      ]
    },
    {
      "cell_type": "markdown",
      "metadata": {
        "id": "VkrK3q7-NDXZ"
      },
      "source": [
        "Maximum of x1, x2, and x3"
      ]
    },
    {
      "cell_type": "code",
      "metadata": {
        "colab": {
          "base_uri": "https://localhost:8080/"
        },
        "id": "Cr9z2KfzJnm5",
        "outputId": "b1220784-d79a-456a-906f-fe1b491518c8"
      },
      "source": [
        "max_x1 = np.max(x1)\n",
        "print(max_x1)"
      ],
      "execution_count": 43,
      "outputs": [
        {
          "output_type": "stream",
          "text": [
            "3\n"
          ],
          "name": "stdout"
        }
      ]
    },
    {
      "cell_type": "code",
      "metadata": {
        "colab": {
          "base_uri": "https://localhost:8080/"
        },
        "id": "vUR-aG-XJwe5",
        "outputId": "a6dd8b95-ac7e-40d1-be3c-b3a4d7accd28"
      },
      "source": [
        "max_x2 = np.max(x2)\n",
        "print(max_x2)"
      ],
      "execution_count": 44,
      "outputs": [
        {
          "output_type": "stream",
          "text": [
            "2\n"
          ],
          "name": "stdout"
        }
      ]
    },
    {
      "cell_type": "code",
      "metadata": {
        "colab": {
          "base_uri": "https://localhost:8080/"
        },
        "id": "g0H9QYwQJysg",
        "outputId": "f9329f32-628f-4765-80f1-7c4963a9d35d"
      },
      "source": [
        "max_x3 = np.max(x3)\n",
        "print(max_x3)"
      ],
      "execution_count": 45,
      "outputs": [
        {
          "output_type": "stream",
          "text": [
            "2\n"
          ],
          "name": "stdout"
        }
      ]
    },
    {
      "cell_type": "markdown",
      "metadata": {
        "id": "iK8MdLCRNMqM"
      },
      "source": [
        "Norm of x1, x2, and x3"
      ]
    },
    {
      "cell_type": "code",
      "metadata": {
        "colab": {
          "base_uri": "https://localhost:8080/"
        },
        "id": "vz17ZHjAKVQQ",
        "outputId": "fdb56858-07b6-48ef-cbd7-bf9ec65a4a2f"
      },
      "source": [
        "norm_x1 = np.linalg.norm(x1)\n",
        "print(norm_x1)"
      ],
      "execution_count": 46,
      "outputs": [
        {
          "output_type": "stream",
          "text": [
            "3.7416573867739413\n"
          ],
          "name": "stdout"
        }
      ]
    },
    {
      "cell_type": "code",
      "metadata": {
        "colab": {
          "base_uri": "https://localhost:8080/"
        },
        "id": "gXIYOOJlKnH7",
        "outputId": "29d056c1-2bc7-4d8c-8e6e-9ec5739dc429"
      },
      "source": [
        "norm_x2 = np.linalg.norm(x2)\n",
        "print(norm_x2)"
      ],
      "execution_count": 47,
      "outputs": [
        {
          "output_type": "stream",
          "text": [
            "3.0\n"
          ],
          "name": "stdout"
        }
      ]
    },
    {
      "cell_type": "code",
      "metadata": {
        "colab": {
          "base_uri": "https://localhost:8080/"
        },
        "id": "NDyZG6U0JZoJ",
        "outputId": "b0dc1e9f-2108-4510-ccbc-d629b37fa9f4"
      },
      "source": [
        "norm_x3 = np.linalg.norm(x3)\n",
        "print(norm_x3)"
      ],
      "execution_count": 48,
      "outputs": [
        {
          "output_type": "stream",
          "text": [
            "4.69041575982343\n"
          ],
          "name": "stdout"
        }
      ]
    },
    {
      "cell_type": "markdown",
      "metadata": {
        "id": "Cy05pGGC6PkT"
      },
      "source": [
        "### Question 2"
      ]
    },
    {
      "cell_type": "markdown",
      "metadata": {
        "id": "mGx7jkVuNSvH"
      },
      "source": [
        "Create matrix A1 and A2"
      ]
    },
    {
      "cell_type": "code",
      "metadata": {
        "colab": {
          "base_uri": "https://localhost:8080/"
        },
        "id": "gQDA064kKvQa",
        "outputId": "4d37bab7-d67c-48ca-ce63-bf87b41fed4e"
      },
      "source": [
        "A1 = np.array([[1,-2],[4,3]])\n",
        "print(A1)"
      ],
      "execution_count": 49,
      "outputs": [
        {
          "output_type": "stream",
          "text": [
            "[[ 1 -2]\n",
            " [ 4  3]]\n"
          ],
          "name": "stdout"
        }
      ]
    },
    {
      "cell_type": "code",
      "metadata": {
        "colab": {
          "base_uri": "https://localhost:8080/"
        },
        "id": "64DGDfi4K5Dz",
        "outputId": "7835b150-e166-4edd-c804-87885d9eae3b"
      },
      "source": [
        "A2 = np.array([[1,0,2],[0,1,-1],[-1,1,1]])\n",
        "print(A2)"
      ],
      "execution_count": 50,
      "outputs": [
        {
          "output_type": "stream",
          "text": [
            "[[ 1  0  2]\n",
            " [ 0  1 -1]\n",
            " [-1  1  1]]\n"
          ],
          "name": "stdout"
        }
      ]
    },
    {
      "cell_type": "markdown",
      "metadata": {
        "id": "TF_lLj-lNYE1"
      },
      "source": [
        "l2 norm for A1 and A2"
      ]
    },
    {
      "cell_type": "code",
      "metadata": {
        "colab": {
          "base_uri": "https://localhost:8080/"
        },
        "id": "kYTxM_-LL1A9",
        "outputId": "741f9c02-397f-4c06-cd68-bc62831d3955"
      },
      "source": [
        "l2_norm_A1 = np.linalg.norm(A1)\n",
        "print(l2_norm_A1)"
      ],
      "execution_count": 51,
      "outputs": [
        {
          "output_type": "stream",
          "text": [
            "5.477225575051661\n"
          ],
          "name": "stdout"
        }
      ]
    },
    {
      "cell_type": "code",
      "metadata": {
        "colab": {
          "base_uri": "https://localhost:8080/"
        },
        "id": "aW_I_e7iL8Gc",
        "outputId": "78a44429-81ae-4fb5-c50a-0b31b0d26b5b"
      },
      "source": [
        "l2_norm_A2 = np.linalg.norm(A2)\n",
        "print(l2_norm_A2)"
      ],
      "execution_count": 52,
      "outputs": [
        {
          "output_type": "stream",
          "text": [
            "3.1622776601683795\n"
          ],
          "name": "stdout"
        }
      ]
    },
    {
      "cell_type": "markdown",
      "metadata": {
        "id": "ZVTu5cJfNcPq"
      },
      "source": [
        "Lmax norm for A1 and A2"
      ]
    },
    {
      "cell_type": "code",
      "metadata": {
        "colab": {
          "base_uri": "https://localhost:8080/"
        },
        "id": "wrqMnNRpL-xg",
        "outputId": "315eafdc-aeaf-4ebc-ed63-ad116063dda5"
      },
      "source": [
        "lmax_norm_A1 = np.linalg.norm(A1,np.inf)\n",
        "print(lmax_norm_A1)"
      ],
      "execution_count": 53,
      "outputs": [
        {
          "output_type": "stream",
          "text": [
            "7.0\n"
          ],
          "name": "stdout"
        }
      ]
    },
    {
      "cell_type": "code",
      "metadata": {
        "colab": {
          "base_uri": "https://localhost:8080/"
        },
        "id": "FSjNZWqGMGDX",
        "outputId": "b27bc8ef-5709-49c0-eec1-fa91618d121a"
      },
      "source": [
        "lmax_norm_A2 = np.linalg.norm(A2,np.inf)\n",
        "print(lmax_norm_A2)"
      ],
      "execution_count": 54,
      "outputs": [
        {
          "output_type": "stream",
          "text": [
            "3.0\n"
          ],
          "name": "stdout"
        }
      ]
    },
    {
      "cell_type": "markdown",
      "metadata": {
        "id": "RPOB0yn36QaO"
      },
      "source": [
        "### Question 3"
      ]
    },
    {
      "cell_type": "markdown",
      "metadata": {
        "id": "CtnyFwe6NlaJ"
      },
      "source": [
        "Calculate eigenvalues"
      ]
    },
    {
      "cell_type": "code",
      "metadata": {
        "colab": {
          "base_uri": "https://localhost:8080/"
        },
        "id": "wO7basYdMpj5",
        "outputId": "65bc48d1-7e1a-4bb3-ded2-2e3a01e913bf"
      },
      "source": [
        "A = np.array([[-2,-2,3],[-10,-1,6],[10,-2,-9]])\n",
        "w, v = np.linalg.eig(A)\n",
        "print(w)"
      ],
      "execution_count": 55,
      "outputs": [
        {
          "output_type": "stream",
          "text": [
            "[-12.   3.  -3.]\n"
          ],
          "name": "stdout"
        }
      ]
    },
    {
      "cell_type": "markdown",
      "metadata": {
        "id": "QUIkh0945t-n"
      },
      "source": [
        "# 3 Pandas manipulations"
      ]
    },
    {
      "cell_type": "code",
      "metadata": {
        "id": "0jTs_VTz6yLu"
      },
      "source": [
        "import pandas as pd"
      ],
      "execution_count": 56,
      "outputs": []
    },
    {
      "cell_type": "code",
      "metadata": {
        "id": "zPN8qjQSB-MT"
      },
      "source": [
        "import matplotlib.pyplot as plt"
      ],
      "execution_count": 57,
      "outputs": []
    },
    {
      "cell_type": "markdown",
      "metadata": {
        "id": "CBzKkSjY6Es2"
      },
      "source": [
        "### Question 1"
      ]
    },
    {
      "cell_type": "markdown",
      "metadata": {
        "id": "cSBNeDekEJsI"
      },
      "source": [
        "Increase the size of dataframe display"
      ]
    },
    {
      "cell_type": "code",
      "metadata": {
        "id": "thYZZwm2-Ye5"
      },
      "source": [
        "pd.set_option('display.max_rows', 90)"
      ],
      "execution_count": 58,
      "outputs": []
    },
    {
      "cell_type": "markdown",
      "metadata": {
        "id": "mhN2LCrkEORb"
      },
      "source": [
        "Import the file as dataframe"
      ]
    },
    {
      "cell_type": "code",
      "metadata": {
        "id": "TfGKDuoq7YVM"
      },
      "source": [
        "Gas_DF = pd.read_excel('Gas_prices.xlsx')"
      ],
      "execution_count": 59,
      "outputs": []
    },
    {
      "cell_type": "markdown",
      "metadata": {
        "id": "Ibi__EgaEbyp"
      },
      "source": [
        "Import math to check for NaN"
      ]
    },
    {
      "cell_type": "code",
      "metadata": {
        "id": "D6sJ4wn5wzQA"
      },
      "source": [
        "import math"
      ],
      "execution_count": 60,
      "outputs": []
    },
    {
      "cell_type": "markdown",
      "metadata": {
        "id": "xz6H-Q4dEe6j"
      },
      "source": [
        "Create function to fill NaN in data"
      ]
    },
    {
      "cell_type": "markdown",
      "metadata": {
        "id": "eI8NAoU5EjOr"
      },
      "source": [
        "function takes in two parameters: 1, the dataframe and 2, the column name that have missing values."
      ]
    },
    {
      "cell_type": "markdown",
      "metadata": {
        "id": "lYG_wgmoEvGa"
      },
      "source": [
        "ffill which fills the place with value in the Forward index.\n",
        "\n",
        "bfill which fills the place with value in the Previous/Back index."
      ]
    },
    {
      "cell_type": "code",
      "metadata": {
        "id": "bfSSuPnfomua"
      },
      "source": [
        "def fill_na (df, column):\n",
        "  # takes the average between the two fill methods\n",
        "  filled_column = (df[column].ffill() + df[column].bfill())/2\n",
        "  # if nan occures as the first element, use back fill\n",
        "  if math.isnan(filled_column.iloc[0]):\n",
        "    filled_column.iloc[0] = (df[column].bfill()).iloc[0]\n",
        "  # if nan occures as the last element, use forword fill\n",
        "  if math.isnan(filled_column.iloc[-1:]):\n",
        "    filled_column.iloc[-1:] = (df[column].ffill()).iloc[-1:]\n",
        "  # update the filled columns\n",
        "  df[column] = filled_column\n",
        "  return df"
      ],
      "execution_count": 61,
      "outputs": []
    },
    {
      "cell_type": "code",
      "metadata": {
        "colab": {
          "base_uri": "https://localhost:8080/",
          "height": 1000
        },
        "id": "CE6t0CCopuMw",
        "outputId": "28640107-6b78-4560-c8fd-7c4129f116fc"
      },
      "source": [
        "Gas_DF = fill_na(Gas_DF, \"Price_pl\")\n",
        "Gas_DF"
      ],
      "execution_count": 62,
      "outputs": [
        {
          "output_type": "execute_result",
          "data": {
            "text/html": [
              "<div>\n",
              "<style scoped>\n",
              "    .dataframe tbody tr th:only-of-type {\n",
              "        vertical-align: middle;\n",
              "    }\n",
              "\n",
              "    .dataframe tbody tr th {\n",
              "        vertical-align: top;\n",
              "    }\n",
              "\n",
              "    .dataframe thead th {\n",
              "        text-align: right;\n",
              "    }\n",
              "</style>\n",
              "<table border=\"1\" class=\"dataframe\">\n",
              "  <thead>\n",
              "    <tr style=\"text-align: right;\">\n",
              "      <th></th>\n",
              "      <th>Date</th>\n",
              "      <th>Price_pl</th>\n",
              "    </tr>\n",
              "  </thead>\n",
              "  <tbody>\n",
              "    <tr>\n",
              "      <th>0</th>\n",
              "      <td>12/11/2015</td>\n",
              "      <td>1.0490</td>\n",
              "    </tr>\n",
              "    <tr>\n",
              "      <th>1</th>\n",
              "      <td>19/11/2015</td>\n",
              "      <td>0.9990</td>\n",
              "    </tr>\n",
              "    <tr>\n",
              "      <th>2</th>\n",
              "      <td>7/12/2015</td>\n",
              "      <td>0.9990</td>\n",
              "    </tr>\n",
              "    <tr>\n",
              "      <th>3</th>\n",
              "      <td>19/12/2015</td>\n",
              "      <td>1.0190</td>\n",
              "    </tr>\n",
              "    <tr>\n",
              "      <th>4</th>\n",
              "      <td>04/01/2016</td>\n",
              "      <td>1.0190</td>\n",
              "    </tr>\n",
              "    <tr>\n",
              "      <th>5</th>\n",
              "      <td>10/01/2016</td>\n",
              "      <td>0.9590</td>\n",
              "    </tr>\n",
              "    <tr>\n",
              "      <th>6</th>\n",
              "      <td>18/01/2016</td>\n",
              "      <td>0.9290</td>\n",
              "    </tr>\n",
              "    <tr>\n",
              "      <th>7</th>\n",
              "      <td>31/01/2016</td>\n",
              "      <td>0.9490</td>\n",
              "    </tr>\n",
              "    <tr>\n",
              "      <th>8</th>\n",
              "      <td>5/2/2016</td>\n",
              "      <td>0.9090</td>\n",
              "    </tr>\n",
              "    <tr>\n",
              "      <th>9</th>\n",
              "      <td>20/2/2016</td>\n",
              "      <td>0.8890</td>\n",
              "    </tr>\n",
              "    <tr>\n",
              "      <th>10</th>\n",
              "      <td>06/03/2016</td>\n",
              "      <td>0.9090</td>\n",
              "    </tr>\n",
              "    <tr>\n",
              "      <th>11</th>\n",
              "      <td>22/03/2016</td>\n",
              "      <td>0.9490</td>\n",
              "    </tr>\n",
              "    <tr>\n",
              "      <th>12</th>\n",
              "      <td>15/04/2016</td>\n",
              "      <td>1.0040</td>\n",
              "    </tr>\n",
              "    <tr>\n",
              "      <th>13</th>\n",
              "      <td>28/04/2016</td>\n",
              "      <td>1.0590</td>\n",
              "    </tr>\n",
              "    <tr>\n",
              "      <th>14</th>\n",
              "      <td>1/05/2016</td>\n",
              "      <td>1.0590</td>\n",
              "    </tr>\n",
              "    <tr>\n",
              "      <th>15</th>\n",
              "      <td>3/5/2016</td>\n",
              "      <td>1.0590</td>\n",
              "    </tr>\n",
              "    <tr>\n",
              "      <th>16</th>\n",
              "      <td>9/5/2016</td>\n",
              "      <td>1.0490</td>\n",
              "    </tr>\n",
              "    <tr>\n",
              "      <th>17</th>\n",
              "      <td>16/05/2016</td>\n",
              "      <td>1.0790</td>\n",
              "    </tr>\n",
              "    <tr>\n",
              "      <th>18</th>\n",
              "      <td>24/05/2016</td>\n",
              "      <td>1.1090</td>\n",
              "    </tr>\n",
              "    <tr>\n",
              "      <th>19</th>\n",
              "      <td>31/05/2016</td>\n",
              "      <td>1.0990</td>\n",
              "    </tr>\n",
              "    <tr>\n",
              "      <th>20</th>\n",
              "      <td>6/6/2016</td>\n",
              "      <td>1.0690</td>\n",
              "    </tr>\n",
              "    <tr>\n",
              "      <th>21</th>\n",
              "      <td>13/6/2016</td>\n",
              "      <td>1.0560</td>\n",
              "    </tr>\n",
              "    <tr>\n",
              "      <th>22</th>\n",
              "      <td>20/6/2016</td>\n",
              "      <td>1.0190</td>\n",
              "    </tr>\n",
              "    <tr>\n",
              "      <th>23</th>\n",
              "      <td>2/7/2016</td>\n",
              "      <td>1.0490</td>\n",
              "    </tr>\n",
              "    <tr>\n",
              "      <th>24</th>\n",
              "      <td>15/07/2016</td>\n",
              "      <td>0.9990</td>\n",
              "    </tr>\n",
              "    <tr>\n",
              "      <th>25</th>\n",
              "      <td>02/08/2016</td>\n",
              "      <td>0.9855</td>\n",
              "    </tr>\n",
              "    <tr>\n",
              "      <th>26</th>\n",
              "      <td>15/08/2016</td>\n",
              "      <td>0.9720</td>\n",
              "    </tr>\n",
              "    <tr>\n",
              "      <th>27</th>\n",
              "      <td>17/08/2016</td>\n",
              "      <td>0.9790</td>\n",
              "    </tr>\n",
              "    <tr>\n",
              "      <th>28</th>\n",
              "      <td>29/08/2016</td>\n",
              "      <td>1.0390</td>\n",
              "    </tr>\n",
              "    <tr>\n",
              "      <th>29</th>\n",
              "      <td>26/09/2016</td>\n",
              "      <td>0.9990</td>\n",
              "    </tr>\n",
              "    <tr>\n",
              "      <th>30</th>\n",
              "      <td>13/10/2016</td>\n",
              "      <td>1.0490</td>\n",
              "    </tr>\n",
              "    <tr>\n",
              "      <th>31</th>\n",
              "      <td>31/10/2016</td>\n",
              "      <td>1.0490</td>\n",
              "    </tr>\n",
              "    <tr>\n",
              "      <th>32</th>\n",
              "      <td>13/11/2016</td>\n",
              "      <td>0.9420</td>\n",
              "    </tr>\n",
              "    <tr>\n",
              "      <th>33</th>\n",
              "      <td>29/11/2016</td>\n",
              "      <td>0.9560</td>\n",
              "    </tr>\n",
              "    <tr>\n",
              "      <th>34</th>\n",
              "      <td>12/12/2016</td>\n",
              "      <td>1.0490</td>\n",
              "    </tr>\n",
              "    <tr>\n",
              "      <th>35</th>\n",
              "      <td>23/12/2016</td>\n",
              "      <td>1.0990</td>\n",
              "    </tr>\n",
              "    <tr>\n",
              "      <th>36</th>\n",
              "      <td>06/01/2017</td>\n",
              "      <td>1.1490</td>\n",
              "    </tr>\n",
              "    <tr>\n",
              "      <th>37</th>\n",
              "      <td>13/01/2017</td>\n",
              "      <td>1.1190</td>\n",
              "    </tr>\n",
              "    <tr>\n",
              "      <th>38</th>\n",
              "      <td>23/01/2017</td>\n",
              "      <td>1.1190</td>\n",
              "    </tr>\n",
              "    <tr>\n",
              "      <th>39</th>\n",
              "      <td>30/01/2017</td>\n",
              "      <td>1.0890</td>\n",
              "    </tr>\n",
              "    <tr>\n",
              "      <th>40</th>\n",
              "      <td>05/02/2017</td>\n",
              "      <td>1.0690</td>\n",
              "    </tr>\n",
              "    <tr>\n",
              "      <th>41</th>\n",
              "      <td>14/02/2017</td>\n",
              "      <td>1.0890</td>\n",
              "    </tr>\n",
              "    <tr>\n",
              "      <th>42</th>\n",
              "      <td>22/02/2017</td>\n",
              "      <td>1.0790</td>\n",
              "    </tr>\n",
              "    <tr>\n",
              "      <th>43</th>\n",
              "      <td>02/03/2017</td>\n",
              "      <td>1.0890</td>\n",
              "    </tr>\n",
              "    <tr>\n",
              "      <th>44</th>\n",
              "      <td>9/03/2017</td>\n",
              "      <td>1.0590</td>\n",
              "    </tr>\n",
              "    <tr>\n",
              "      <th>45</th>\n",
              "      <td>16/03/2017</td>\n",
              "      <td>1.0790</td>\n",
              "    </tr>\n",
              "    <tr>\n",
              "      <th>46</th>\n",
              "      <td>22/03/2017</td>\n",
              "      <td>1.0890</td>\n",
              "    </tr>\n",
              "    <tr>\n",
              "      <th>47</th>\n",
              "      <td>28/03/2017</td>\n",
              "      <td>1.0590</td>\n",
              "    </tr>\n",
              "    <tr>\n",
              "      <th>48</th>\n",
              "      <td>10/04/2017</td>\n",
              "      <td>1.1590</td>\n",
              "    </tr>\n",
              "    <tr>\n",
              "      <th>49</th>\n",
              "      <td>17/04/2017</td>\n",
              "      <td>1.1890</td>\n",
              "    </tr>\n",
              "    <tr>\n",
              "      <th>50</th>\n",
              "      <td>22/04/2017</td>\n",
              "      <td>1.1790</td>\n",
              "    </tr>\n",
              "    <tr>\n",
              "      <th>51</th>\n",
              "      <td>17/05/2017</td>\n",
              "      <td>1.1090</td>\n",
              "    </tr>\n",
              "    <tr>\n",
              "      <th>52</th>\n",
              "      <td>26/06/2017</td>\n",
              "      <td>1.0220</td>\n",
              "    </tr>\n",
              "    <tr>\n",
              "      <th>53</th>\n",
              "      <td>14/07/2017</td>\n",
              "      <td>1.0590</td>\n",
              "    </tr>\n",
              "    <tr>\n",
              "      <th>54</th>\n",
              "      <td>10/08/2017</td>\n",
              "      <td>1.0940</td>\n",
              "    </tr>\n",
              "    <tr>\n",
              "      <th>55</th>\n",
              "      <td>20/08/2017</td>\n",
              "      <td>1.1290</td>\n",
              "    </tr>\n",
              "    <tr>\n",
              "      <th>56</th>\n",
              "      <td>24/08/2017</td>\n",
              "      <td>1.0790</td>\n",
              "    </tr>\n",
              "    <tr>\n",
              "      <th>57</th>\n",
              "      <td>18/09/2017</td>\n",
              "      <td>1.0860</td>\n",
              "    </tr>\n",
              "    <tr>\n",
              "      <th>58</th>\n",
              "      <td>24/10/2017</td>\n",
              "      <td>1.1260</td>\n",
              "    </tr>\n",
              "    <tr>\n",
              "      <th>59</th>\n",
              "      <td>19/11/2017</td>\n",
              "      <td>1.1830</td>\n",
              "    </tr>\n",
              "    <tr>\n",
              "      <th>60</th>\n",
              "      <td>09/12/2017</td>\n",
              "      <td>1.2190</td>\n",
              "    </tr>\n",
              "    <tr>\n",
              "      <th>61</th>\n",
              "      <td>24/12/2017</td>\n",
              "      <td>1.2030</td>\n",
              "    </tr>\n",
              "    <tr>\n",
              "      <th>62</th>\n",
              "      <td>04/01/2018</td>\n",
              "      <td>1.2190</td>\n",
              "    </tr>\n",
              "    <tr>\n",
              "      <th>63</th>\n",
              "      <td>08/01/2018</td>\n",
              "      <td>1.1760</td>\n",
              "    </tr>\n",
              "    <tr>\n",
              "      <th>64</th>\n",
              "      <td>2/2/2018</td>\n",
              "      <td>1.2190</td>\n",
              "    </tr>\n",
              "    <tr>\n",
              "      <th>65</th>\n",
              "      <td>14/02/2018</td>\n",
              "      <td>1.1530</td>\n",
              "    </tr>\n",
              "    <tr>\n",
              "      <th>66</th>\n",
              "      <td>3/3/2018</td>\n",
              "      <td>1.1860</td>\n",
              "    </tr>\n",
              "    <tr>\n",
              "      <th>67</th>\n",
              "      <td>9/03/2018</td>\n",
              "      <td>1.1960</td>\n",
              "    </tr>\n",
              "    <tr>\n",
              "      <th>68</th>\n",
              "      <td>26/03/2018</td>\n",
              "      <td>1.2630</td>\n",
              "    </tr>\n",
              "    <tr>\n",
              "      <th>69</th>\n",
              "      <td>2/4/2018</td>\n",
              "      <td>1.2760</td>\n",
              "    </tr>\n",
              "    <tr>\n",
              "      <th>70</th>\n",
              "      <td>24/04/2018</td>\n",
              "      <td>1.2995</td>\n",
              "    </tr>\n",
              "    <tr>\n",
              "      <th>71</th>\n",
              "      <td>02/05/2018</td>\n",
              "      <td>1.3230</td>\n",
              "    </tr>\n",
              "    <tr>\n",
              "      <th>72</th>\n",
              "      <td>12/05/2018</td>\n",
              "      <td>1.3260</td>\n",
              "    </tr>\n",
              "    <tr>\n",
              "      <th>73</th>\n",
              "      <td>23/05/2018</td>\n",
              "      <td>1.3360</td>\n",
              "    </tr>\n",
              "    <tr>\n",
              "      <th>74</th>\n",
              "      <td>20/6/2018</td>\n",
              "      <td>1.2890</td>\n",
              "    </tr>\n",
              "    <tr>\n",
              "      <th>75</th>\n",
              "      <td>3/7/2018</td>\n",
              "      <td>1.3260</td>\n",
              "    </tr>\n",
              "    <tr>\n",
              "      <th>76</th>\n",
              "      <td>27/7/2018</td>\n",
              "      <td>1.2990</td>\n",
              "    </tr>\n",
              "    <tr>\n",
              "      <th>77</th>\n",
              "      <td>17/10/2018</td>\n",
              "      <td>1.2090</td>\n",
              "    </tr>\n",
              "    <tr>\n",
              "      <th>78</th>\n",
              "      <td>01/11/2018</td>\n",
              "      <td>1.1960</td>\n",
              "    </tr>\n",
              "    <tr>\n",
              "      <th>79</th>\n",
              "      <td>12/11/2018</td>\n",
              "      <td>1.1260</td>\n",
              "    </tr>\n",
              "    <tr>\n",
              "      <th>80</th>\n",
              "      <td>27/11/2018</td>\n",
              "      <td>1.0590</td>\n",
              "    </tr>\n",
              "    <tr>\n",
              "      <th>81</th>\n",
              "      <td>06/12/2018</td>\n",
              "      <td>1.0160</td>\n",
              "    </tr>\n",
              "  </tbody>\n",
              "</table>\n",
              "</div>"
            ],
            "text/plain": [
              "          Date  Price_pl\n",
              "0   12/11/2015    1.0490\n",
              "1   19/11/2015    0.9990\n",
              "2    7/12/2015    0.9990\n",
              "3   19/12/2015    1.0190\n",
              "4   04/01/2016    1.0190\n",
              "5   10/01/2016    0.9590\n",
              "6   18/01/2016    0.9290\n",
              "7   31/01/2016    0.9490\n",
              "8     5/2/2016    0.9090\n",
              "9    20/2/2016    0.8890\n",
              "10  06/03/2016    0.9090\n",
              "11  22/03/2016    0.9490\n",
              "12  15/04/2016    1.0040\n",
              "13  28/04/2016    1.0590\n",
              "14   1/05/2016    1.0590\n",
              "15    3/5/2016    1.0590\n",
              "16    9/5/2016    1.0490\n",
              "17  16/05/2016    1.0790\n",
              "18  24/05/2016    1.1090\n",
              "19  31/05/2016    1.0990\n",
              "20    6/6/2016    1.0690\n",
              "21   13/6/2016    1.0560\n",
              "22   20/6/2016    1.0190\n",
              "23    2/7/2016    1.0490\n",
              "24  15/07/2016    0.9990\n",
              "25  02/08/2016    0.9855\n",
              "26  15/08/2016    0.9720\n",
              "27  17/08/2016    0.9790\n",
              "28  29/08/2016    1.0390\n",
              "29  26/09/2016    0.9990\n",
              "30  13/10/2016    1.0490\n",
              "31  31/10/2016    1.0490\n",
              "32  13/11/2016    0.9420\n",
              "33  29/11/2016    0.9560\n",
              "34  12/12/2016    1.0490\n",
              "35  23/12/2016    1.0990\n",
              "36  06/01/2017    1.1490\n",
              "37  13/01/2017    1.1190\n",
              "38  23/01/2017    1.1190\n",
              "39  30/01/2017    1.0890\n",
              "40  05/02/2017    1.0690\n",
              "41  14/02/2017    1.0890\n",
              "42  22/02/2017    1.0790\n",
              "43  02/03/2017    1.0890\n",
              "44   9/03/2017    1.0590\n",
              "45  16/03/2017    1.0790\n",
              "46  22/03/2017    1.0890\n",
              "47  28/03/2017    1.0590\n",
              "48  10/04/2017    1.1590\n",
              "49  17/04/2017    1.1890\n",
              "50  22/04/2017    1.1790\n",
              "51  17/05/2017    1.1090\n",
              "52  26/06/2017    1.0220\n",
              "53  14/07/2017    1.0590\n",
              "54  10/08/2017    1.0940\n",
              "55  20/08/2017    1.1290\n",
              "56  24/08/2017    1.0790\n",
              "57  18/09/2017    1.0860\n",
              "58  24/10/2017    1.1260\n",
              "59  19/11/2017    1.1830\n",
              "60  09/12/2017    1.2190\n",
              "61  24/12/2017    1.2030\n",
              "62  04/01/2018    1.2190\n",
              "63  08/01/2018    1.1760\n",
              "64    2/2/2018    1.2190\n",
              "65  14/02/2018    1.1530\n",
              "66    3/3/2018    1.1860\n",
              "67   9/03/2018    1.1960\n",
              "68  26/03/2018    1.2630\n",
              "69    2/4/2018    1.2760\n",
              "70  24/04/2018    1.2995\n",
              "71  02/05/2018    1.3230\n",
              "72  12/05/2018    1.3260\n",
              "73  23/05/2018    1.3360\n",
              "74   20/6/2018    1.2890\n",
              "75    3/7/2018    1.3260\n",
              "76   27/7/2018    1.2990\n",
              "77  17/10/2018    1.2090\n",
              "78  01/11/2018    1.1960\n",
              "79  12/11/2018    1.1260\n",
              "80  27/11/2018    1.0590\n",
              "81  06/12/2018    1.0160"
            ]
          },
          "metadata": {
            "tags": []
          },
          "execution_count": 62
        }
      ]
    },
    {
      "cell_type": "markdown",
      "metadata": {
        "id": "11EDJVve6Fdk"
      },
      "source": [
        "### Question 2"
      ]
    },
    {
      "cell_type": "markdown",
      "metadata": {
        "id": "OKyg4YABF67A"
      },
      "source": [
        "#### Max Gas Price"
      ]
    },
    {
      "cell_type": "markdown",
      "metadata": {
        "id": "5iaCd9nJFsDI"
      },
      "source": [
        "Find max gas price index"
      ]
    },
    {
      "cell_type": "code",
      "metadata": {
        "colab": {
          "base_uri": "https://localhost:8080/"
        },
        "id": "vLNAi65vOy6q",
        "outputId": "c3bd2128-021e-4241-ad7e-533ae23a8cbe"
      },
      "source": [
        "Gas_DF[\"Price_pl\"].idxmax()"
      ],
      "execution_count": 63,
      "outputs": [
        {
          "output_type": "execute_result",
          "data": {
            "text/plain": [
              "73"
            ]
          },
          "metadata": {
            "tags": []
          },
          "execution_count": 63
        }
      ]
    },
    {
      "cell_type": "markdown",
      "metadata": {
        "id": "KgbQBqOmFw-a"
      },
      "source": [
        "Max gas price date"
      ]
    },
    {
      "cell_type": "code",
      "metadata": {
        "colab": {
          "base_uri": "https://localhost:8080/",
          "height": 35
        },
        "id": "mUjEmqrDPcS4",
        "outputId": "b73258fe-0825-42b3-88f4-c9473cccaec9"
      },
      "source": [
        "Gas_DF[\"Date\"][Gas_DF[\"Price_pl\"].idxmax()]"
      ],
      "execution_count": 64,
      "outputs": [
        {
          "output_type": "execute_result",
          "data": {
            "application/vnd.google.colaboratory.intrinsic+json": {
              "type": "string"
            },
            "text/plain": [
              "'23/05/2018'"
            ]
          },
          "metadata": {
            "tags": []
          },
          "execution_count": 64
        }
      ]
    },
    {
      "cell_type": "markdown",
      "metadata": {
        "id": "fpijZf7xF16P"
      },
      "source": [
        "Max gas price"
      ]
    },
    {
      "cell_type": "code",
      "metadata": {
        "colab": {
          "base_uri": "https://localhost:8080/"
        },
        "id": "prsAR_MfPlAL",
        "outputId": "3f01377a-95d7-4171-8957-8456685022e0"
      },
      "source": [
        "Gas_DF[\"Price_pl\"][Gas_DF[\"Price_pl\"].idxmax()]"
      ],
      "execution_count": 65,
      "outputs": [
        {
          "output_type": "execute_result",
          "data": {
            "text/plain": [
              "1.336"
            ]
          },
          "metadata": {
            "tags": []
          },
          "execution_count": 65
        }
      ]
    },
    {
      "cell_type": "markdown",
      "metadata": {
        "id": "TbgA0K-LGAAq"
      },
      "source": [
        "#### Min Gas Price"
      ]
    },
    {
      "cell_type": "markdown",
      "metadata": {
        "id": "F5rocrQMGBt6"
      },
      "source": [
        "Find min gas price index"
      ]
    },
    {
      "cell_type": "code",
      "metadata": {
        "colab": {
          "base_uri": "https://localhost:8080/"
        },
        "id": "wqvgCIf4PrtN",
        "outputId": "659ac577-03d6-4694-f10a-a6aab5dfb95f"
      },
      "source": [
        "Gas_DF[\"Price_pl\"].idxmin()"
      ],
      "execution_count": 66,
      "outputs": [
        {
          "output_type": "execute_result",
          "data": {
            "text/plain": [
              "9"
            ]
          },
          "metadata": {
            "tags": []
          },
          "execution_count": 66
        }
      ]
    },
    {
      "cell_type": "markdown",
      "metadata": {
        "id": "gtdnFMlwGD_W"
      },
      "source": [
        "Min gas price date"
      ]
    },
    {
      "cell_type": "code",
      "metadata": {
        "colab": {
          "base_uri": "https://localhost:8080/",
          "height": 35
        },
        "id": "-vKtDz3aPtWm",
        "outputId": "dd5b3910-d081-4ed3-bab6-0d05b62fe08a"
      },
      "source": [
        "Gas_DF[\"Date\"][Gas_DF[\"Price_pl\"].idxmin()]"
      ],
      "execution_count": 67,
      "outputs": [
        {
          "output_type": "execute_result",
          "data": {
            "application/vnd.google.colaboratory.intrinsic+json": {
              "type": "string"
            },
            "text/plain": [
              "'20/2/2016'"
            ]
          },
          "metadata": {
            "tags": []
          },
          "execution_count": 67
        }
      ]
    },
    {
      "cell_type": "markdown",
      "metadata": {
        "id": "XPQVZ-ysGFss"
      },
      "source": [
        "Min Gas price"
      ]
    },
    {
      "cell_type": "code",
      "metadata": {
        "colab": {
          "base_uri": "https://localhost:8080/"
        },
        "id": "15V6y_fNPtyA",
        "outputId": "83ab113a-8b39-4b8d-9f49-27b8094c9d95"
      },
      "source": [
        "Gas_DF[\"Price_pl\"][Gas_DF[\"Price_pl\"].idxmin()]"
      ],
      "execution_count": 68,
      "outputs": [
        {
          "output_type": "execute_result",
          "data": {
            "text/plain": [
              "0.889"
            ]
          },
          "metadata": {
            "tags": []
          },
          "execution_count": 68
        }
      ]
    },
    {
      "cell_type": "markdown",
      "metadata": {
        "id": "T4XyaWHS6GOG"
      },
      "source": [
        "### Question 3"
      ]
    },
    {
      "cell_type": "markdown",
      "metadata": {
        "id": "EwRetJoHGKGc"
      },
      "source": [
        "Mean, median, and quantiles shown below"
      ]
    },
    {
      "cell_type": "markdown",
      "metadata": {
        "id": "A7xQgQ_pQqQx"
      },
      "source": [
        "Median is equivalent to 50% quantile"
      ]
    },
    {
      "cell_type": "code",
      "metadata": {
        "colab": {
          "base_uri": "https://localhost:8080/"
        },
        "id": "UUbzrUiRv81v",
        "outputId": "d265afcf-dde2-4e70-ceae-7584c7a8e728"
      },
      "source": [
        "Gas_DF[\"Price_pl\"].describe()"
      ],
      "execution_count": 69,
      "outputs": [
        {
          "output_type": "execute_result",
          "data": {
            "text/plain": [
              "count    82.000000\n",
              "mean      1.095390\n",
              "std       0.107164\n",
              "min       0.889000\n",
              "25%       1.019750\n",
              "50%       1.079000\n",
              "75%       1.171750\n",
              "max       1.336000\n",
              "Name: Price_pl, dtype: float64"
            ]
          },
          "metadata": {
            "tags": []
          },
          "execution_count": 69
        }
      ]
    },
    {
      "cell_type": "markdown",
      "metadata": {
        "id": "GrKzU0pOGSL2"
      },
      "source": [
        "Skewness"
      ]
    },
    {
      "cell_type": "code",
      "metadata": {
        "colab": {
          "base_uri": "https://localhost:8080/"
        },
        "id": "2oa3EfUcQb-H",
        "outputId": "30a05f11-8a0c-4b3b-ace9-f91a6457f8aa"
      },
      "source": [
        "Gas_DF['Price_pl'].skew()"
      ],
      "execution_count": 70,
      "outputs": [
        {
          "output_type": "execute_result",
          "data": {
            "text/plain": [
              "0.46752591499730667"
            ]
          },
          "metadata": {
            "tags": []
          },
          "execution_count": 70
        }
      ]
    },
    {
      "cell_type": "markdown",
      "metadata": {
        "id": "hZxtSjOTGUXq"
      },
      "source": [
        "Kurtosis"
      ]
    },
    {
      "cell_type": "code",
      "metadata": {
        "colab": {
          "base_uri": "https://localhost:8080/"
        },
        "id": "Eo3ghoO4QNe-",
        "outputId": "c264e6f4-1a15-4ce7-d7e9-7bc19bffbc91"
      },
      "source": [
        "Gas_DF['Price_pl'].kurtosis()"
      ],
      "execution_count": 71,
      "outputs": [
        {
          "output_type": "execute_result",
          "data": {
            "text/plain": [
              "-0.257963187132765"
            ]
          },
          "metadata": {
            "tags": []
          },
          "execution_count": 71
        }
      ]
    },
    {
      "cell_type": "markdown",
      "metadata": {
        "id": "KoLaMWiK6HVy"
      },
      "source": [
        "### Question 4"
      ]
    },
    {
      "cell_type": "markdown",
      "metadata": {
        "id": "jFBkZsGGGetC"
      },
      "source": [
        "Create Month and Year column from date column"
      ]
    },
    {
      "cell_type": "markdown",
      "metadata": {
        "id": "-yAlN7B7GnDd"
      },
      "source": [
        "Convert the column data types to int to standardize the references"
      ]
    },
    {
      "cell_type": "code",
      "metadata": {
        "colab": {
          "base_uri": "https://localhost:8080/",
          "height": 1000
        },
        "id": "v0ysYmNb4Um-",
        "outputId": "f70473d9-0ab2-4644-a38e-68ac042be47c"
      },
      "source": [
        "Gas_DF[['Day','Month','Year']] = Gas_DF.Date.str.split(\"/\",expand=True)\n",
        "Gas_DF['Month'] = Gas_DF['Month'].astype(int)\n",
        "Gas_DF['Year'] = Gas_DF['Year'].astype(int)\n",
        "Gas_DF"
      ],
      "execution_count": 72,
      "outputs": [
        {
          "output_type": "execute_result",
          "data": {
            "text/html": [
              "<div>\n",
              "<style scoped>\n",
              "    .dataframe tbody tr th:only-of-type {\n",
              "        vertical-align: middle;\n",
              "    }\n",
              "\n",
              "    .dataframe tbody tr th {\n",
              "        vertical-align: top;\n",
              "    }\n",
              "\n",
              "    .dataframe thead th {\n",
              "        text-align: right;\n",
              "    }\n",
              "</style>\n",
              "<table border=\"1\" class=\"dataframe\">\n",
              "  <thead>\n",
              "    <tr style=\"text-align: right;\">\n",
              "      <th></th>\n",
              "      <th>Date</th>\n",
              "      <th>Price_pl</th>\n",
              "      <th>Day</th>\n",
              "      <th>Month</th>\n",
              "      <th>Year</th>\n",
              "    </tr>\n",
              "  </thead>\n",
              "  <tbody>\n",
              "    <tr>\n",
              "      <th>0</th>\n",
              "      <td>12/11/2015</td>\n",
              "      <td>1.0490</td>\n",
              "      <td>12</td>\n",
              "      <td>11</td>\n",
              "      <td>2015</td>\n",
              "    </tr>\n",
              "    <tr>\n",
              "      <th>1</th>\n",
              "      <td>19/11/2015</td>\n",
              "      <td>0.9990</td>\n",
              "      <td>19</td>\n",
              "      <td>11</td>\n",
              "      <td>2015</td>\n",
              "    </tr>\n",
              "    <tr>\n",
              "      <th>2</th>\n",
              "      <td>7/12/2015</td>\n",
              "      <td>0.9990</td>\n",
              "      <td>7</td>\n",
              "      <td>12</td>\n",
              "      <td>2015</td>\n",
              "    </tr>\n",
              "    <tr>\n",
              "      <th>3</th>\n",
              "      <td>19/12/2015</td>\n",
              "      <td>1.0190</td>\n",
              "      <td>19</td>\n",
              "      <td>12</td>\n",
              "      <td>2015</td>\n",
              "    </tr>\n",
              "    <tr>\n",
              "      <th>4</th>\n",
              "      <td>04/01/2016</td>\n",
              "      <td>1.0190</td>\n",
              "      <td>04</td>\n",
              "      <td>1</td>\n",
              "      <td>2016</td>\n",
              "    </tr>\n",
              "    <tr>\n",
              "      <th>5</th>\n",
              "      <td>10/01/2016</td>\n",
              "      <td>0.9590</td>\n",
              "      <td>10</td>\n",
              "      <td>1</td>\n",
              "      <td>2016</td>\n",
              "    </tr>\n",
              "    <tr>\n",
              "      <th>6</th>\n",
              "      <td>18/01/2016</td>\n",
              "      <td>0.9290</td>\n",
              "      <td>18</td>\n",
              "      <td>1</td>\n",
              "      <td>2016</td>\n",
              "    </tr>\n",
              "    <tr>\n",
              "      <th>7</th>\n",
              "      <td>31/01/2016</td>\n",
              "      <td>0.9490</td>\n",
              "      <td>31</td>\n",
              "      <td>1</td>\n",
              "      <td>2016</td>\n",
              "    </tr>\n",
              "    <tr>\n",
              "      <th>8</th>\n",
              "      <td>5/2/2016</td>\n",
              "      <td>0.9090</td>\n",
              "      <td>5</td>\n",
              "      <td>2</td>\n",
              "      <td>2016</td>\n",
              "    </tr>\n",
              "    <tr>\n",
              "      <th>9</th>\n",
              "      <td>20/2/2016</td>\n",
              "      <td>0.8890</td>\n",
              "      <td>20</td>\n",
              "      <td>2</td>\n",
              "      <td>2016</td>\n",
              "    </tr>\n",
              "    <tr>\n",
              "      <th>10</th>\n",
              "      <td>06/03/2016</td>\n",
              "      <td>0.9090</td>\n",
              "      <td>06</td>\n",
              "      <td>3</td>\n",
              "      <td>2016</td>\n",
              "    </tr>\n",
              "    <tr>\n",
              "      <th>11</th>\n",
              "      <td>22/03/2016</td>\n",
              "      <td>0.9490</td>\n",
              "      <td>22</td>\n",
              "      <td>3</td>\n",
              "      <td>2016</td>\n",
              "    </tr>\n",
              "    <tr>\n",
              "      <th>12</th>\n",
              "      <td>15/04/2016</td>\n",
              "      <td>1.0040</td>\n",
              "      <td>15</td>\n",
              "      <td>4</td>\n",
              "      <td>2016</td>\n",
              "    </tr>\n",
              "    <tr>\n",
              "      <th>13</th>\n",
              "      <td>28/04/2016</td>\n",
              "      <td>1.0590</td>\n",
              "      <td>28</td>\n",
              "      <td>4</td>\n",
              "      <td>2016</td>\n",
              "    </tr>\n",
              "    <tr>\n",
              "      <th>14</th>\n",
              "      <td>1/05/2016</td>\n",
              "      <td>1.0590</td>\n",
              "      <td>1</td>\n",
              "      <td>5</td>\n",
              "      <td>2016</td>\n",
              "    </tr>\n",
              "    <tr>\n",
              "      <th>15</th>\n",
              "      <td>3/5/2016</td>\n",
              "      <td>1.0590</td>\n",
              "      <td>3</td>\n",
              "      <td>5</td>\n",
              "      <td>2016</td>\n",
              "    </tr>\n",
              "    <tr>\n",
              "      <th>16</th>\n",
              "      <td>9/5/2016</td>\n",
              "      <td>1.0490</td>\n",
              "      <td>9</td>\n",
              "      <td>5</td>\n",
              "      <td>2016</td>\n",
              "    </tr>\n",
              "    <tr>\n",
              "      <th>17</th>\n",
              "      <td>16/05/2016</td>\n",
              "      <td>1.0790</td>\n",
              "      <td>16</td>\n",
              "      <td>5</td>\n",
              "      <td>2016</td>\n",
              "    </tr>\n",
              "    <tr>\n",
              "      <th>18</th>\n",
              "      <td>24/05/2016</td>\n",
              "      <td>1.1090</td>\n",
              "      <td>24</td>\n",
              "      <td>5</td>\n",
              "      <td>2016</td>\n",
              "    </tr>\n",
              "    <tr>\n",
              "      <th>19</th>\n",
              "      <td>31/05/2016</td>\n",
              "      <td>1.0990</td>\n",
              "      <td>31</td>\n",
              "      <td>5</td>\n",
              "      <td>2016</td>\n",
              "    </tr>\n",
              "    <tr>\n",
              "      <th>20</th>\n",
              "      <td>6/6/2016</td>\n",
              "      <td>1.0690</td>\n",
              "      <td>6</td>\n",
              "      <td>6</td>\n",
              "      <td>2016</td>\n",
              "    </tr>\n",
              "    <tr>\n",
              "      <th>21</th>\n",
              "      <td>13/6/2016</td>\n",
              "      <td>1.0560</td>\n",
              "      <td>13</td>\n",
              "      <td>6</td>\n",
              "      <td>2016</td>\n",
              "    </tr>\n",
              "    <tr>\n",
              "      <th>22</th>\n",
              "      <td>20/6/2016</td>\n",
              "      <td>1.0190</td>\n",
              "      <td>20</td>\n",
              "      <td>6</td>\n",
              "      <td>2016</td>\n",
              "    </tr>\n",
              "    <tr>\n",
              "      <th>23</th>\n",
              "      <td>2/7/2016</td>\n",
              "      <td>1.0490</td>\n",
              "      <td>2</td>\n",
              "      <td>7</td>\n",
              "      <td>2016</td>\n",
              "    </tr>\n",
              "    <tr>\n",
              "      <th>24</th>\n",
              "      <td>15/07/2016</td>\n",
              "      <td>0.9990</td>\n",
              "      <td>15</td>\n",
              "      <td>7</td>\n",
              "      <td>2016</td>\n",
              "    </tr>\n",
              "    <tr>\n",
              "      <th>25</th>\n",
              "      <td>02/08/2016</td>\n",
              "      <td>0.9855</td>\n",
              "      <td>02</td>\n",
              "      <td>8</td>\n",
              "      <td>2016</td>\n",
              "    </tr>\n",
              "    <tr>\n",
              "      <th>26</th>\n",
              "      <td>15/08/2016</td>\n",
              "      <td>0.9720</td>\n",
              "      <td>15</td>\n",
              "      <td>8</td>\n",
              "      <td>2016</td>\n",
              "    </tr>\n",
              "    <tr>\n",
              "      <th>27</th>\n",
              "      <td>17/08/2016</td>\n",
              "      <td>0.9790</td>\n",
              "      <td>17</td>\n",
              "      <td>8</td>\n",
              "      <td>2016</td>\n",
              "    </tr>\n",
              "    <tr>\n",
              "      <th>28</th>\n",
              "      <td>29/08/2016</td>\n",
              "      <td>1.0390</td>\n",
              "      <td>29</td>\n",
              "      <td>8</td>\n",
              "      <td>2016</td>\n",
              "    </tr>\n",
              "    <tr>\n",
              "      <th>29</th>\n",
              "      <td>26/09/2016</td>\n",
              "      <td>0.9990</td>\n",
              "      <td>26</td>\n",
              "      <td>9</td>\n",
              "      <td>2016</td>\n",
              "    </tr>\n",
              "    <tr>\n",
              "      <th>30</th>\n",
              "      <td>13/10/2016</td>\n",
              "      <td>1.0490</td>\n",
              "      <td>13</td>\n",
              "      <td>10</td>\n",
              "      <td>2016</td>\n",
              "    </tr>\n",
              "    <tr>\n",
              "      <th>31</th>\n",
              "      <td>31/10/2016</td>\n",
              "      <td>1.0490</td>\n",
              "      <td>31</td>\n",
              "      <td>10</td>\n",
              "      <td>2016</td>\n",
              "    </tr>\n",
              "    <tr>\n",
              "      <th>32</th>\n",
              "      <td>13/11/2016</td>\n",
              "      <td>0.9420</td>\n",
              "      <td>13</td>\n",
              "      <td>11</td>\n",
              "      <td>2016</td>\n",
              "    </tr>\n",
              "    <tr>\n",
              "      <th>33</th>\n",
              "      <td>29/11/2016</td>\n",
              "      <td>0.9560</td>\n",
              "      <td>29</td>\n",
              "      <td>11</td>\n",
              "      <td>2016</td>\n",
              "    </tr>\n",
              "    <tr>\n",
              "      <th>34</th>\n",
              "      <td>12/12/2016</td>\n",
              "      <td>1.0490</td>\n",
              "      <td>12</td>\n",
              "      <td>12</td>\n",
              "      <td>2016</td>\n",
              "    </tr>\n",
              "    <tr>\n",
              "      <th>35</th>\n",
              "      <td>23/12/2016</td>\n",
              "      <td>1.0990</td>\n",
              "      <td>23</td>\n",
              "      <td>12</td>\n",
              "      <td>2016</td>\n",
              "    </tr>\n",
              "    <tr>\n",
              "      <th>36</th>\n",
              "      <td>06/01/2017</td>\n",
              "      <td>1.1490</td>\n",
              "      <td>06</td>\n",
              "      <td>1</td>\n",
              "      <td>2017</td>\n",
              "    </tr>\n",
              "    <tr>\n",
              "      <th>37</th>\n",
              "      <td>13/01/2017</td>\n",
              "      <td>1.1190</td>\n",
              "      <td>13</td>\n",
              "      <td>1</td>\n",
              "      <td>2017</td>\n",
              "    </tr>\n",
              "    <tr>\n",
              "      <th>38</th>\n",
              "      <td>23/01/2017</td>\n",
              "      <td>1.1190</td>\n",
              "      <td>23</td>\n",
              "      <td>1</td>\n",
              "      <td>2017</td>\n",
              "    </tr>\n",
              "    <tr>\n",
              "      <th>39</th>\n",
              "      <td>30/01/2017</td>\n",
              "      <td>1.0890</td>\n",
              "      <td>30</td>\n",
              "      <td>1</td>\n",
              "      <td>2017</td>\n",
              "    </tr>\n",
              "    <tr>\n",
              "      <th>40</th>\n",
              "      <td>05/02/2017</td>\n",
              "      <td>1.0690</td>\n",
              "      <td>05</td>\n",
              "      <td>2</td>\n",
              "      <td>2017</td>\n",
              "    </tr>\n",
              "    <tr>\n",
              "      <th>41</th>\n",
              "      <td>14/02/2017</td>\n",
              "      <td>1.0890</td>\n",
              "      <td>14</td>\n",
              "      <td>2</td>\n",
              "      <td>2017</td>\n",
              "    </tr>\n",
              "    <tr>\n",
              "      <th>42</th>\n",
              "      <td>22/02/2017</td>\n",
              "      <td>1.0790</td>\n",
              "      <td>22</td>\n",
              "      <td>2</td>\n",
              "      <td>2017</td>\n",
              "    </tr>\n",
              "    <tr>\n",
              "      <th>43</th>\n",
              "      <td>02/03/2017</td>\n",
              "      <td>1.0890</td>\n",
              "      <td>02</td>\n",
              "      <td>3</td>\n",
              "      <td>2017</td>\n",
              "    </tr>\n",
              "    <tr>\n",
              "      <th>44</th>\n",
              "      <td>9/03/2017</td>\n",
              "      <td>1.0590</td>\n",
              "      <td>9</td>\n",
              "      <td>3</td>\n",
              "      <td>2017</td>\n",
              "    </tr>\n",
              "    <tr>\n",
              "      <th>45</th>\n",
              "      <td>16/03/2017</td>\n",
              "      <td>1.0790</td>\n",
              "      <td>16</td>\n",
              "      <td>3</td>\n",
              "      <td>2017</td>\n",
              "    </tr>\n",
              "    <tr>\n",
              "      <th>46</th>\n",
              "      <td>22/03/2017</td>\n",
              "      <td>1.0890</td>\n",
              "      <td>22</td>\n",
              "      <td>3</td>\n",
              "      <td>2017</td>\n",
              "    </tr>\n",
              "    <tr>\n",
              "      <th>47</th>\n",
              "      <td>28/03/2017</td>\n",
              "      <td>1.0590</td>\n",
              "      <td>28</td>\n",
              "      <td>3</td>\n",
              "      <td>2017</td>\n",
              "    </tr>\n",
              "    <tr>\n",
              "      <th>48</th>\n",
              "      <td>10/04/2017</td>\n",
              "      <td>1.1590</td>\n",
              "      <td>10</td>\n",
              "      <td>4</td>\n",
              "      <td>2017</td>\n",
              "    </tr>\n",
              "    <tr>\n",
              "      <th>49</th>\n",
              "      <td>17/04/2017</td>\n",
              "      <td>1.1890</td>\n",
              "      <td>17</td>\n",
              "      <td>4</td>\n",
              "      <td>2017</td>\n",
              "    </tr>\n",
              "    <tr>\n",
              "      <th>50</th>\n",
              "      <td>22/04/2017</td>\n",
              "      <td>1.1790</td>\n",
              "      <td>22</td>\n",
              "      <td>4</td>\n",
              "      <td>2017</td>\n",
              "    </tr>\n",
              "    <tr>\n",
              "      <th>51</th>\n",
              "      <td>17/05/2017</td>\n",
              "      <td>1.1090</td>\n",
              "      <td>17</td>\n",
              "      <td>5</td>\n",
              "      <td>2017</td>\n",
              "    </tr>\n",
              "    <tr>\n",
              "      <th>52</th>\n",
              "      <td>26/06/2017</td>\n",
              "      <td>1.0220</td>\n",
              "      <td>26</td>\n",
              "      <td>6</td>\n",
              "      <td>2017</td>\n",
              "    </tr>\n",
              "    <tr>\n",
              "      <th>53</th>\n",
              "      <td>14/07/2017</td>\n",
              "      <td>1.0590</td>\n",
              "      <td>14</td>\n",
              "      <td>7</td>\n",
              "      <td>2017</td>\n",
              "    </tr>\n",
              "    <tr>\n",
              "      <th>54</th>\n",
              "      <td>10/08/2017</td>\n",
              "      <td>1.0940</td>\n",
              "      <td>10</td>\n",
              "      <td>8</td>\n",
              "      <td>2017</td>\n",
              "    </tr>\n",
              "    <tr>\n",
              "      <th>55</th>\n",
              "      <td>20/08/2017</td>\n",
              "      <td>1.1290</td>\n",
              "      <td>20</td>\n",
              "      <td>8</td>\n",
              "      <td>2017</td>\n",
              "    </tr>\n",
              "    <tr>\n",
              "      <th>56</th>\n",
              "      <td>24/08/2017</td>\n",
              "      <td>1.0790</td>\n",
              "      <td>24</td>\n",
              "      <td>8</td>\n",
              "      <td>2017</td>\n",
              "    </tr>\n",
              "    <tr>\n",
              "      <th>57</th>\n",
              "      <td>18/09/2017</td>\n",
              "      <td>1.0860</td>\n",
              "      <td>18</td>\n",
              "      <td>9</td>\n",
              "      <td>2017</td>\n",
              "    </tr>\n",
              "    <tr>\n",
              "      <th>58</th>\n",
              "      <td>24/10/2017</td>\n",
              "      <td>1.1260</td>\n",
              "      <td>24</td>\n",
              "      <td>10</td>\n",
              "      <td>2017</td>\n",
              "    </tr>\n",
              "    <tr>\n",
              "      <th>59</th>\n",
              "      <td>19/11/2017</td>\n",
              "      <td>1.1830</td>\n",
              "      <td>19</td>\n",
              "      <td>11</td>\n",
              "      <td>2017</td>\n",
              "    </tr>\n",
              "    <tr>\n",
              "      <th>60</th>\n",
              "      <td>09/12/2017</td>\n",
              "      <td>1.2190</td>\n",
              "      <td>09</td>\n",
              "      <td>12</td>\n",
              "      <td>2017</td>\n",
              "    </tr>\n",
              "    <tr>\n",
              "      <th>61</th>\n",
              "      <td>24/12/2017</td>\n",
              "      <td>1.2030</td>\n",
              "      <td>24</td>\n",
              "      <td>12</td>\n",
              "      <td>2017</td>\n",
              "    </tr>\n",
              "    <tr>\n",
              "      <th>62</th>\n",
              "      <td>04/01/2018</td>\n",
              "      <td>1.2190</td>\n",
              "      <td>04</td>\n",
              "      <td>1</td>\n",
              "      <td>2018</td>\n",
              "    </tr>\n",
              "    <tr>\n",
              "      <th>63</th>\n",
              "      <td>08/01/2018</td>\n",
              "      <td>1.1760</td>\n",
              "      <td>08</td>\n",
              "      <td>1</td>\n",
              "      <td>2018</td>\n",
              "    </tr>\n",
              "    <tr>\n",
              "      <th>64</th>\n",
              "      <td>2/2/2018</td>\n",
              "      <td>1.2190</td>\n",
              "      <td>2</td>\n",
              "      <td>2</td>\n",
              "      <td>2018</td>\n",
              "    </tr>\n",
              "    <tr>\n",
              "      <th>65</th>\n",
              "      <td>14/02/2018</td>\n",
              "      <td>1.1530</td>\n",
              "      <td>14</td>\n",
              "      <td>2</td>\n",
              "      <td>2018</td>\n",
              "    </tr>\n",
              "    <tr>\n",
              "      <th>66</th>\n",
              "      <td>3/3/2018</td>\n",
              "      <td>1.1860</td>\n",
              "      <td>3</td>\n",
              "      <td>3</td>\n",
              "      <td>2018</td>\n",
              "    </tr>\n",
              "    <tr>\n",
              "      <th>67</th>\n",
              "      <td>9/03/2018</td>\n",
              "      <td>1.1960</td>\n",
              "      <td>9</td>\n",
              "      <td>3</td>\n",
              "      <td>2018</td>\n",
              "    </tr>\n",
              "    <tr>\n",
              "      <th>68</th>\n",
              "      <td>26/03/2018</td>\n",
              "      <td>1.2630</td>\n",
              "      <td>26</td>\n",
              "      <td>3</td>\n",
              "      <td>2018</td>\n",
              "    </tr>\n",
              "    <tr>\n",
              "      <th>69</th>\n",
              "      <td>2/4/2018</td>\n",
              "      <td>1.2760</td>\n",
              "      <td>2</td>\n",
              "      <td>4</td>\n",
              "      <td>2018</td>\n",
              "    </tr>\n",
              "    <tr>\n",
              "      <th>70</th>\n",
              "      <td>24/04/2018</td>\n",
              "      <td>1.2995</td>\n",
              "      <td>24</td>\n",
              "      <td>4</td>\n",
              "      <td>2018</td>\n",
              "    </tr>\n",
              "    <tr>\n",
              "      <th>71</th>\n",
              "      <td>02/05/2018</td>\n",
              "      <td>1.3230</td>\n",
              "      <td>02</td>\n",
              "      <td>5</td>\n",
              "      <td>2018</td>\n",
              "    </tr>\n",
              "    <tr>\n",
              "      <th>72</th>\n",
              "      <td>12/05/2018</td>\n",
              "      <td>1.3260</td>\n",
              "      <td>12</td>\n",
              "      <td>5</td>\n",
              "      <td>2018</td>\n",
              "    </tr>\n",
              "    <tr>\n",
              "      <th>73</th>\n",
              "      <td>23/05/2018</td>\n",
              "      <td>1.3360</td>\n",
              "      <td>23</td>\n",
              "      <td>5</td>\n",
              "      <td>2018</td>\n",
              "    </tr>\n",
              "    <tr>\n",
              "      <th>74</th>\n",
              "      <td>20/6/2018</td>\n",
              "      <td>1.2890</td>\n",
              "      <td>20</td>\n",
              "      <td>6</td>\n",
              "      <td>2018</td>\n",
              "    </tr>\n",
              "    <tr>\n",
              "      <th>75</th>\n",
              "      <td>3/7/2018</td>\n",
              "      <td>1.3260</td>\n",
              "      <td>3</td>\n",
              "      <td>7</td>\n",
              "      <td>2018</td>\n",
              "    </tr>\n",
              "    <tr>\n",
              "      <th>76</th>\n",
              "      <td>27/7/2018</td>\n",
              "      <td>1.2990</td>\n",
              "      <td>27</td>\n",
              "      <td>7</td>\n",
              "      <td>2018</td>\n",
              "    </tr>\n",
              "    <tr>\n",
              "      <th>77</th>\n",
              "      <td>17/10/2018</td>\n",
              "      <td>1.2090</td>\n",
              "      <td>17</td>\n",
              "      <td>10</td>\n",
              "      <td>2018</td>\n",
              "    </tr>\n",
              "    <tr>\n",
              "      <th>78</th>\n",
              "      <td>01/11/2018</td>\n",
              "      <td>1.1960</td>\n",
              "      <td>01</td>\n",
              "      <td>11</td>\n",
              "      <td>2018</td>\n",
              "    </tr>\n",
              "    <tr>\n",
              "      <th>79</th>\n",
              "      <td>12/11/2018</td>\n",
              "      <td>1.1260</td>\n",
              "      <td>12</td>\n",
              "      <td>11</td>\n",
              "      <td>2018</td>\n",
              "    </tr>\n",
              "    <tr>\n",
              "      <th>80</th>\n",
              "      <td>27/11/2018</td>\n",
              "      <td>1.0590</td>\n",
              "      <td>27</td>\n",
              "      <td>11</td>\n",
              "      <td>2018</td>\n",
              "    </tr>\n",
              "    <tr>\n",
              "      <th>81</th>\n",
              "      <td>06/12/2018</td>\n",
              "      <td>1.0160</td>\n",
              "      <td>06</td>\n",
              "      <td>12</td>\n",
              "      <td>2018</td>\n",
              "    </tr>\n",
              "  </tbody>\n",
              "</table>\n",
              "</div>"
            ],
            "text/plain": [
              "          Date  Price_pl Day  Month  Year\n",
              "0   12/11/2015    1.0490  12     11  2015\n",
              "1   19/11/2015    0.9990  19     11  2015\n",
              "2    7/12/2015    0.9990   7     12  2015\n",
              "3   19/12/2015    1.0190  19     12  2015\n",
              "4   04/01/2016    1.0190  04      1  2016\n",
              "5   10/01/2016    0.9590  10      1  2016\n",
              "6   18/01/2016    0.9290  18      1  2016\n",
              "7   31/01/2016    0.9490  31      1  2016\n",
              "8     5/2/2016    0.9090   5      2  2016\n",
              "9    20/2/2016    0.8890  20      2  2016\n",
              "10  06/03/2016    0.9090  06      3  2016\n",
              "11  22/03/2016    0.9490  22      3  2016\n",
              "12  15/04/2016    1.0040  15      4  2016\n",
              "13  28/04/2016    1.0590  28      4  2016\n",
              "14   1/05/2016    1.0590   1      5  2016\n",
              "15    3/5/2016    1.0590   3      5  2016\n",
              "16    9/5/2016    1.0490   9      5  2016\n",
              "17  16/05/2016    1.0790  16      5  2016\n",
              "18  24/05/2016    1.1090  24      5  2016\n",
              "19  31/05/2016    1.0990  31      5  2016\n",
              "20    6/6/2016    1.0690   6      6  2016\n",
              "21   13/6/2016    1.0560  13      6  2016\n",
              "22   20/6/2016    1.0190  20      6  2016\n",
              "23    2/7/2016    1.0490   2      7  2016\n",
              "24  15/07/2016    0.9990  15      7  2016\n",
              "25  02/08/2016    0.9855  02      8  2016\n",
              "26  15/08/2016    0.9720  15      8  2016\n",
              "27  17/08/2016    0.9790  17      8  2016\n",
              "28  29/08/2016    1.0390  29      8  2016\n",
              "29  26/09/2016    0.9990  26      9  2016\n",
              "30  13/10/2016    1.0490  13     10  2016\n",
              "31  31/10/2016    1.0490  31     10  2016\n",
              "32  13/11/2016    0.9420  13     11  2016\n",
              "33  29/11/2016    0.9560  29     11  2016\n",
              "34  12/12/2016    1.0490  12     12  2016\n",
              "35  23/12/2016    1.0990  23     12  2016\n",
              "36  06/01/2017    1.1490  06      1  2017\n",
              "37  13/01/2017    1.1190  13      1  2017\n",
              "38  23/01/2017    1.1190  23      1  2017\n",
              "39  30/01/2017    1.0890  30      1  2017\n",
              "40  05/02/2017    1.0690  05      2  2017\n",
              "41  14/02/2017    1.0890  14      2  2017\n",
              "42  22/02/2017    1.0790  22      2  2017\n",
              "43  02/03/2017    1.0890  02      3  2017\n",
              "44   9/03/2017    1.0590   9      3  2017\n",
              "45  16/03/2017    1.0790  16      3  2017\n",
              "46  22/03/2017    1.0890  22      3  2017\n",
              "47  28/03/2017    1.0590  28      3  2017\n",
              "48  10/04/2017    1.1590  10      4  2017\n",
              "49  17/04/2017    1.1890  17      4  2017\n",
              "50  22/04/2017    1.1790  22      4  2017\n",
              "51  17/05/2017    1.1090  17      5  2017\n",
              "52  26/06/2017    1.0220  26      6  2017\n",
              "53  14/07/2017    1.0590  14      7  2017\n",
              "54  10/08/2017    1.0940  10      8  2017\n",
              "55  20/08/2017    1.1290  20      8  2017\n",
              "56  24/08/2017    1.0790  24      8  2017\n",
              "57  18/09/2017    1.0860  18      9  2017\n",
              "58  24/10/2017    1.1260  24     10  2017\n",
              "59  19/11/2017    1.1830  19     11  2017\n",
              "60  09/12/2017    1.2190  09     12  2017\n",
              "61  24/12/2017    1.2030  24     12  2017\n",
              "62  04/01/2018    1.2190  04      1  2018\n",
              "63  08/01/2018    1.1760  08      1  2018\n",
              "64    2/2/2018    1.2190   2      2  2018\n",
              "65  14/02/2018    1.1530  14      2  2018\n",
              "66    3/3/2018    1.1860   3      3  2018\n",
              "67   9/03/2018    1.1960   9      3  2018\n",
              "68  26/03/2018    1.2630  26      3  2018\n",
              "69    2/4/2018    1.2760   2      4  2018\n",
              "70  24/04/2018    1.2995  24      4  2018\n",
              "71  02/05/2018    1.3230  02      5  2018\n",
              "72  12/05/2018    1.3260  12      5  2018\n",
              "73  23/05/2018    1.3360  23      5  2018\n",
              "74   20/6/2018    1.2890  20      6  2018\n",
              "75    3/7/2018    1.3260   3      7  2018\n",
              "76   27/7/2018    1.2990  27      7  2018\n",
              "77  17/10/2018    1.2090  17     10  2018\n",
              "78  01/11/2018    1.1960  01     11  2018\n",
              "79  12/11/2018    1.1260  12     11  2018\n",
              "80  27/11/2018    1.0590  27     11  2018\n",
              "81  06/12/2018    1.0160  06     12  2018"
            ]
          },
          "metadata": {
            "tags": []
          },
          "execution_count": 72
        }
      ]
    },
    {
      "cell_type": "markdown",
      "metadata": {
        "id": "vHr1BQ-bGyxp"
      },
      "source": [
        "Create the pivot table by month and year, with a aggregate method of mean to get monthly average"
      ]
    },
    {
      "cell_type": "code",
      "metadata": {
        "colab": {
          "base_uri": "https://localhost:8080/",
          "height": 437
        },
        "id": "u-Q3mTyICW4s",
        "outputId": "bc39c5a3-ac5c-4f49-88ec-5f6d65c89f10"
      },
      "source": [
        "Gas_pivoted = Gas_DF.pivot_table(index=\"Month\", columns=\"Year\", values = \"Price_pl\", aggfunc={'Price_pl': np.mean})\n",
        "Gas_pivoted"
      ],
      "execution_count": 73,
      "outputs": [
        {
          "output_type": "execute_result",
          "data": {
            "text/html": [
              "<div>\n",
              "<style scoped>\n",
              "    .dataframe tbody tr th:only-of-type {\n",
              "        vertical-align: middle;\n",
              "    }\n",
              "\n",
              "    .dataframe tbody tr th {\n",
              "        vertical-align: top;\n",
              "    }\n",
              "\n",
              "    .dataframe thead th {\n",
              "        text-align: right;\n",
              "    }\n",
              "</style>\n",
              "<table border=\"1\" class=\"dataframe\">\n",
              "  <thead>\n",
              "    <tr style=\"text-align: right;\">\n",
              "      <th>Year</th>\n",
              "      <th>2015</th>\n",
              "      <th>2016</th>\n",
              "      <th>2017</th>\n",
              "      <th>2018</th>\n",
              "    </tr>\n",
              "    <tr>\n",
              "      <th>Month</th>\n",
              "      <th></th>\n",
              "      <th></th>\n",
              "      <th></th>\n",
              "      <th></th>\n",
              "    </tr>\n",
              "  </thead>\n",
              "  <tbody>\n",
              "    <tr>\n",
              "      <th>1</th>\n",
              "      <td>NaN</td>\n",
              "      <td>0.964000</td>\n",
              "      <td>1.119000</td>\n",
              "      <td>1.197500</td>\n",
              "    </tr>\n",
              "    <tr>\n",
              "      <th>2</th>\n",
              "      <td>NaN</td>\n",
              "      <td>0.899000</td>\n",
              "      <td>1.079000</td>\n",
              "      <td>1.186000</td>\n",
              "    </tr>\n",
              "    <tr>\n",
              "      <th>3</th>\n",
              "      <td>NaN</td>\n",
              "      <td>0.929000</td>\n",
              "      <td>1.075000</td>\n",
              "      <td>1.215000</td>\n",
              "    </tr>\n",
              "    <tr>\n",
              "      <th>4</th>\n",
              "      <td>NaN</td>\n",
              "      <td>1.031500</td>\n",
              "      <td>1.175667</td>\n",
              "      <td>1.287750</td>\n",
              "    </tr>\n",
              "    <tr>\n",
              "      <th>5</th>\n",
              "      <td>NaN</td>\n",
              "      <td>1.075667</td>\n",
              "      <td>1.109000</td>\n",
              "      <td>1.328333</td>\n",
              "    </tr>\n",
              "    <tr>\n",
              "      <th>6</th>\n",
              "      <td>NaN</td>\n",
              "      <td>1.048000</td>\n",
              "      <td>1.022000</td>\n",
              "      <td>1.289000</td>\n",
              "    </tr>\n",
              "    <tr>\n",
              "      <th>7</th>\n",
              "      <td>NaN</td>\n",
              "      <td>1.024000</td>\n",
              "      <td>1.059000</td>\n",
              "      <td>1.312500</td>\n",
              "    </tr>\n",
              "    <tr>\n",
              "      <th>8</th>\n",
              "      <td>NaN</td>\n",
              "      <td>0.993875</td>\n",
              "      <td>1.100667</td>\n",
              "      <td>NaN</td>\n",
              "    </tr>\n",
              "    <tr>\n",
              "      <th>9</th>\n",
              "      <td>NaN</td>\n",
              "      <td>0.999000</td>\n",
              "      <td>1.086000</td>\n",
              "      <td>NaN</td>\n",
              "    </tr>\n",
              "    <tr>\n",
              "      <th>10</th>\n",
              "      <td>NaN</td>\n",
              "      <td>1.049000</td>\n",
              "      <td>1.126000</td>\n",
              "      <td>1.209000</td>\n",
              "    </tr>\n",
              "    <tr>\n",
              "      <th>11</th>\n",
              "      <td>1.024</td>\n",
              "      <td>0.949000</td>\n",
              "      <td>1.183000</td>\n",
              "      <td>1.127000</td>\n",
              "    </tr>\n",
              "    <tr>\n",
              "      <th>12</th>\n",
              "      <td>1.009</td>\n",
              "      <td>1.074000</td>\n",
              "      <td>1.211000</td>\n",
              "      <td>1.016000</td>\n",
              "    </tr>\n",
              "  </tbody>\n",
              "</table>\n",
              "</div>"
            ],
            "text/plain": [
              "Year    2015      2016      2017      2018\n",
              "Month                                     \n",
              "1        NaN  0.964000  1.119000  1.197500\n",
              "2        NaN  0.899000  1.079000  1.186000\n",
              "3        NaN  0.929000  1.075000  1.215000\n",
              "4        NaN  1.031500  1.175667  1.287750\n",
              "5        NaN  1.075667  1.109000  1.328333\n",
              "6        NaN  1.048000  1.022000  1.289000\n",
              "7        NaN  1.024000  1.059000  1.312500\n",
              "8        NaN  0.993875  1.100667       NaN\n",
              "9        NaN  0.999000  1.086000       NaN\n",
              "10       NaN  1.049000  1.126000  1.209000\n",
              "11     1.024  0.949000  1.183000  1.127000\n",
              "12     1.009  1.074000  1.211000  1.016000"
            ]
          },
          "metadata": {
            "tags": []
          },
          "execution_count": 73
        }
      ]
    },
    {
      "cell_type": "markdown",
      "metadata": {
        "id": "EQ9k2RxVHGoY"
      },
      "source": [
        "Plot the monthly average gas price"
      ]
    },
    {
      "cell_type": "markdown",
      "metadata": {
        "id": "-XR-GmbLSnxf"
      },
      "source": [
        "Assume that missing values are not needed to be filled"
      ]
    },
    {
      "cell_type": "code",
      "metadata": {
        "colab": {
          "base_uri": "https://localhost:8080/",
          "height": 312
        },
        "id": "8DiJ55eyyIMe",
        "outputId": "43c523bc-d9f6-458b-fd55-05433ab08fa6"
      },
      "source": [
        "Gas_pivoted.plot()\n",
        "plt.title(\"Monthly gas price vs Month of the year\")\n",
        "plt.ylabel(\"Gas Price\")"
      ],
      "execution_count": 74,
      "outputs": [
        {
          "output_type": "execute_result",
          "data": {
            "text/plain": [
              "Text(0, 0.5, 'Gas Price')"
            ]
          },
          "metadata": {
            "tags": []
          },
          "execution_count": 74
        },
        {
          "output_type": "display_data",
          "data": {
            "image/png": "[encoded data removed]",
            "text/plain": [
              "<Figure size 432x288 with 1 Axes>"
            ]
          },
          "metadata": {
            "tags": [],
            "needs_background": "light"
          }
        }
      ]
    },
    {
      "cell_type": "markdown",
      "metadata": {
        "id": "mw4YrzVn6IYc"
      },
      "source": [
        "### Question 5\n"
      ]
    },
    {
      "cell_type": "markdown",
      "metadata": {
        "id": "geuZDFMdHhNd"
      },
      "source": [
        "Function conditions to identify season"
      ]
    },
    {
      "cell_type": "code",
      "metadata": {
        "id": "I3YB3Rr3JXf9"
      },
      "source": [
        "def conditions(df):\n",
        "  if (df['Month'] >= 3) and (df['Month'] <= 5) :\n",
        "    return \"Spring\"\n",
        "  elif (df['Month'] >= 6) and (df['Month'] <= 8):\n",
        "    return \"Summer\"\n",
        "  elif (df['Month'] >= 9) and (df['Month'] <= 11):\n",
        "    return \"Fall\"\n",
        "  else:\n",
        "    return \"Winter\""
      ],
      "execution_count": 75,
      "outputs": []
    },
    {
      "cell_type": "markdown",
      "metadata": {
        "id": "z016qlQ3Hmbe"
      },
      "source": [
        "Create new column \"Season\" in dataframe"
      ]
    },
    {
      "cell_type": "code",
      "metadata": {
        "id": "vUUwmGy8qP4k"
      },
      "source": [
        "Gas_DF['Season'] = Gas_DF.apply(conditions, axis=1)"
      ],
      "execution_count": 76,
      "outputs": []
    },
    {
      "cell_type": "markdown",
      "metadata": {
        "id": "1uU6wdmFHuBW"
      },
      "source": [
        "Set Season as the secondary index "
      ]
    },
    {
      "cell_type": "code",
      "metadata": {
        "colab": {
          "base_uri": "https://localhost:8080/",
          "height": 437
        },
        "id": "Kw-x9_igTEEM",
        "outputId": "3e46989a-cd78-4281-df6c-7e160b8ef80b"
      },
      "source": [
        "Gas_pivoted_season = Gas_DF.pivot_table(index=[\"Month\",\"Season\"], columns=\"Year\", values = \"Price_pl\", aggfunc={'Price_pl': np.mean})\n",
        "Gas_pivoted_season"
      ],
      "execution_count": 77,
      "outputs": [
        {
          "output_type": "execute_result",
          "data": {
            "text/html": [
              "<div>\n",
              "<style scoped>\n",
              "    .dataframe tbody tr th:only-of-type {\n",
              "        vertical-align: middle;\n",
              "    }\n",
              "\n",
              "    .dataframe tbody tr th {\n",
              "        vertical-align: top;\n",
              "    }\n",
              "\n",
              "    .dataframe thead th {\n",
              "        text-align: right;\n",
              "    }\n",
              "</style>\n",
              "<table border=\"1\" class=\"dataframe\">\n",
              "  <thead>\n",
              "    <tr style=\"text-align: right;\">\n",
              "      <th></th>\n",
              "      <th>Year</th>\n",
              "      <th>2015</th>\n",
              "      <th>2016</th>\n",
              "      <th>2017</th>\n",
              "      <th>2018</th>\n",
              "    </tr>\n",
              "    <tr>\n",
              "      <th>Month</th>\n",
              "      <th>Season</th>\n",
              "      <th></th>\n",
              "      <th></th>\n",
              "      <th></th>\n",
              "      <th></th>\n",
              "    </tr>\n",
              "  </thead>\n",
              "  <tbody>\n",
              "    <tr>\n",
              "      <th>1</th>\n",
              "      <th>Winter</th>\n",
              "      <td>NaN</td>\n",
              "      <td>0.964000</td>\n",
              "      <td>1.119000</td>\n",
              "      <td>1.197500</td>\n",
              "    </tr>\n",
              "    <tr>\n",
              "      <th>2</th>\n",
              "      <th>Winter</th>\n",
              "      <td>NaN</td>\n",
              "      <td>0.899000</td>\n",
              "      <td>1.079000</td>\n",
              "      <td>1.186000</td>\n",
              "    </tr>\n",
              "    <tr>\n",
              "      <th>3</th>\n",
              "      <th>Spring</th>\n",
              "      <td>NaN</td>\n",
              "      <td>0.929000</td>\n",
              "      <td>1.075000</td>\n",
              "      <td>1.215000</td>\n",
              "    </tr>\n",
              "    <tr>\n",
              "      <th>4</th>\n",
              "      <th>Spring</th>\n",
              "      <td>NaN</td>\n",
              "      <td>1.031500</td>\n",
              "      <td>1.175667</td>\n",
              "      <td>1.287750</td>\n",
              "    </tr>\n",
              "    <tr>\n",
              "      <th>5</th>\n",
              "      <th>Spring</th>\n",
              "      <td>NaN</td>\n",
              "      <td>1.075667</td>\n",
              "      <td>1.109000</td>\n",
              "      <td>1.328333</td>\n",
              "    </tr>\n",
              "    <tr>\n",
              "      <th>6</th>\n",
              "      <th>Summer</th>\n",
              "      <td>NaN</td>\n",
              "      <td>1.048000</td>\n",
              "      <td>1.022000</td>\n",
              "      <td>1.289000</td>\n",
              "    </tr>\n",
              "    <tr>\n",
              "      <th>7</th>\n",
              "      <th>Summer</th>\n",
              "      <td>NaN</td>\n",
              "      <td>1.024000</td>\n",
              "      <td>1.059000</td>\n",
              "      <td>1.312500</td>\n",
              "    </tr>\n",
              "    <tr>\n",
              "      <th>8</th>\n",
              "      <th>Summer</th>\n",
              "      <td>NaN</td>\n",
              "      <td>0.993875</td>\n",
              "      <td>1.100667</td>\n",
              "      <td>NaN</td>\n",
              "    </tr>\n",
              "    <tr>\n",
              "      <th>9</th>\n",
              "      <th>Fall</th>\n",
              "      <td>NaN</td>\n",
              "      <td>0.999000</td>\n",
              "      <td>1.086000</td>\n",
              "      <td>NaN</td>\n",
              "    </tr>\n",
              "    <tr>\n",
              "      <th>10</th>\n",
              "      <th>Fall</th>\n",
              "      <td>NaN</td>\n",
              "      <td>1.049000</td>\n",
              "      <td>1.126000</td>\n",
              "      <td>1.209000</td>\n",
              "    </tr>\n",
              "    <tr>\n",
              "      <th>11</th>\n",
              "      <th>Fall</th>\n",
              "      <td>1.024</td>\n",
              "      <td>0.949000</td>\n",
              "      <td>1.183000</td>\n",
              "      <td>1.127000</td>\n",
              "    </tr>\n",
              "    <tr>\n",
              "      <th>12</th>\n",
              "      <th>Winter</th>\n",
              "      <td>1.009</td>\n",
              "      <td>1.074000</td>\n",
              "      <td>1.211000</td>\n",
              "      <td>1.016000</td>\n",
              "    </tr>\n",
              "  </tbody>\n",
              "</table>\n",
              "</div>"
            ],
            "text/plain": [
              "Year           2015      2016      2017      2018\n",
              "Month Season                                     \n",
              "1     Winter    NaN  0.964000  1.119000  1.197500\n",
              "2     Winter    NaN  0.899000  1.079000  1.186000\n",
              "3     Spring    NaN  0.929000  1.075000  1.215000\n",
              "4     Spring    NaN  1.031500  1.175667  1.287750\n",
              "5     Spring    NaN  1.075667  1.109000  1.328333\n",
              "6     Summer    NaN  1.048000  1.022000  1.289000\n",
              "7     Summer    NaN  1.024000  1.059000  1.312500\n",
              "8     Summer    NaN  0.993875  1.100667       NaN\n",
              "9     Fall      NaN  0.999000  1.086000       NaN\n",
              "10    Fall      NaN  1.049000  1.126000  1.209000\n",
              "11    Fall    1.024  0.949000  1.183000  1.127000\n",
              "12    Winter  1.009  1.074000  1.211000  1.016000"
            ]
          },
          "metadata": {
            "tags": []
          },
          "execution_count": 77
        }
      ]
    },
    {
      "cell_type": "markdown",
      "metadata": {
        "id": "JhQwujUpKnR4"
      },
      "source": [
        "Calculate the average per season.\n",
        "\n",
        "Count all the none NaN gas prices up at the season level and sum the total none NaN gas price throughout the years.\n",
        "\n",
        "Sum all the gas prices up at the season level and sum the total gas price throughout the years.\n",
        "\n",
        "Divide the total sum by the total count to get average of every season."
      ]
    },
    {
      "cell_type": "code",
      "metadata": {
        "id": "MJ3mLPtd7GiM"
      },
      "source": [
        "season_count = Gas_pivoted_season.groupby(level = 1).agg(['count']).sum(axis=1)\n",
        "season_sum = Gas_pivoted_season.groupby(level = 1).agg(['sum']).sum(axis=1)"
      ],
      "execution_count": 78,
      "outputs": []
    },
    {
      "cell_type": "code",
      "metadata": {
        "colab": {
          "base_uri": "https://localhost:8080/"
        },
        "id": "67Il7MyC8dVP",
        "outputId": "33f010e4-9a46-4feb-9c9f-496ba16dc563"
      },
      "source": [
        "season_average = season_sum/season_count\n",
        "season_average"
      ],
      "execution_count": 79,
      "outputs": [
        {
          "output_type": "execute_result",
          "data": {
            "text/plain": [
              "Season\n",
              "Fall      1.083556\n",
              "Spring    1.136324\n",
              "Summer    1.106130\n",
              "Winter    1.075450\n",
              "dtype: float64"
            ]
          },
          "metadata": {
            "tags": []
          },
          "execution_count": 79
        }
      ]
    },
    {
      "cell_type": "markdown",
      "metadata": {
        "id": "37dtQC1P5-Sb"
      },
      "source": [
        "# 4 Pivot, aggregate and plot timeseries"
      ]
    },
    {
      "cell_type": "code",
      "metadata": {
        "id": "NGUDaFtNDNDc"
      },
      "source": [
        "pd.set_option('display.max_rows', 20)"
      ],
      "execution_count": 80,
      "outputs": []
    },
    {
      "cell_type": "markdown",
      "metadata": {
        "id": "qJUH4XsS6Kcz"
      },
      "source": [
        "### Question 1"
      ]
    },
    {
      "cell_type": "markdown",
      "metadata": {
        "id": "d4n8b1N8DUTP"
      },
      "source": [
        "Import file as pandas dataframe\n",
        "\n",
        "Create columns month and year for pivot table."
      ]
    },
    {
      "cell_type": "code",
      "metadata": {
        "colab": {
          "base_uri": "https://localhost:8080/",
          "height": 406
        },
        "id": "0-2lCqqANsDj",
        "outputId": "e558dbe5-9f34-400f-cfb4-18794ddf349c"
      },
      "source": [
        "TREB_DF = pd.read_excel('TREB_Data.xlsx')\n",
        "TREB_DF[['Month','Year']] = TREB_DF.MonthYear.str.split(\"-\",expand=True)\n",
        "TREB_DF"
      ],
      "execution_count": 81,
      "outputs": [
        {
          "output_type": "execute_result",
          "data": {
            "text/html": [
              "<div>\n",
              "<style scoped>\n",
              "    .dataframe tbody tr th:only-of-type {\n",
              "        vertical-align: middle;\n",
              "    }\n",
              "\n",
              "    .dataframe tbody tr th {\n",
              "        vertical-align: top;\n",
              "    }\n",
              "\n",
              "    .dataframe thead th {\n",
              "        text-align: right;\n",
              "    }\n",
              "</style>\n",
              "<table border=\"1\" class=\"dataframe\">\n",
              "  <thead>\n",
              "    <tr style=\"text-align: right;\">\n",
              "      <th></th>\n",
              "      <th>MonthYear</th>\n",
              "      <th>Sales</th>\n",
              "      <th>AveragePrice</th>\n",
              "      <th>Month</th>\n",
              "      <th>Year</th>\n",
              "    </tr>\n",
              "  </thead>\n",
              "  <tbody>\n",
              "    <tr>\n",
              "      <th>0</th>\n",
              "      <td>January-2017</td>\n",
              "      <td>5155</td>\n",
              "      <td>768351</td>\n",
              "      <td>January</td>\n",
              "      <td>2017</td>\n",
              "    </tr>\n",
              "    <tr>\n",
              "      <th>1</th>\n",
              "      <td>February-2017</td>\n",
              "      <td>7955</td>\n",
              "      <td>876363</td>\n",
              "      <td>February</td>\n",
              "      <td>2017</td>\n",
              "    </tr>\n",
              "    <tr>\n",
              "      <th>2</th>\n",
              "      <td>March-2017</td>\n",
              "      <td>11959</td>\n",
              "      <td>915353</td>\n",
              "      <td>March</td>\n",
              "      <td>2017</td>\n",
              "    </tr>\n",
              "    <tr>\n",
              "      <th>3</th>\n",
              "      <td>April-2017</td>\n",
              "      <td>11470</td>\n",
              "      <td>918138</td>\n",
              "      <td>April</td>\n",
              "      <td>2017</td>\n",
              "    </tr>\n",
              "    <tr>\n",
              "      <th>4</th>\n",
              "      <td>May-2017</td>\n",
              "      <td>10068</td>\n",
              "      <td>862109</td>\n",
              "      <td>May</td>\n",
              "      <td>2017</td>\n",
              "    </tr>\n",
              "    <tr>\n",
              "      <th>...</th>\n",
              "      <td>...</td>\n",
              "      <td>...</td>\n",
              "      <td>...</td>\n",
              "      <td>...</td>\n",
              "      <td>...</td>\n",
              "    </tr>\n",
              "    <tr>\n",
              "      <th>55</th>\n",
              "      <td>August-2013</td>\n",
              "      <td>7390</td>\n",
              "      <td>501742</td>\n",
              "      <td>August</td>\n",
              "      <td>2013</td>\n",
              "    </tr>\n",
              "    <tr>\n",
              "      <th>56</th>\n",
              "      <td>September-2013</td>\n",
              "      <td>7256</td>\n",
              "      <td>532556</td>\n",
              "      <td>September</td>\n",
              "      <td>2013</td>\n",
              "    </tr>\n",
              "    <tr>\n",
              "      <th>57</th>\n",
              "      <td>October-2013</td>\n",
              "      <td>7940</td>\n",
              "      <td>539354</td>\n",
              "      <td>October</td>\n",
              "      <td>2013</td>\n",
              "    </tr>\n",
              "    <tr>\n",
              "      <th>58</th>\n",
              "      <td>November-2013</td>\n",
              "      <td>6354</td>\n",
              "      <td>538347</td>\n",
              "      <td>November</td>\n",
              "      <td>2013</td>\n",
              "    </tr>\n",
              "    <tr>\n",
              "      <th>59</th>\n",
              "      <td>December-2013</td>\n",
              "      <td>4058</td>\n",
              "      <td>520189</td>\n",
              "      <td>December</td>\n",
              "      <td>2013</td>\n",
              "    </tr>\n",
              "  </tbody>\n",
              "</table>\n",
              "<p>60 rows × 5 columns</p>\n",
              "</div>"
            ],
            "text/plain": [
              "         MonthYear  Sales  AveragePrice      Month  Year\n",
              "0     January-2017   5155        768351    January  2017\n",
              "1    February-2017   7955        876363   February  2017\n",
              "2       March-2017  11959        915353      March  2017\n",
              "3       April-2017  11470        918138      April  2017\n",
              "4         May-2017  10068        862109        May  2017\n",
              "..             ...    ...           ...        ...   ...\n",
              "55     August-2013   7390        501742     August  2013\n",
              "56  September-2013   7256        532556  September  2013\n",
              "57    October-2013   7940        539354    October  2013\n",
              "58   November-2013   6354        538347   November  2013\n",
              "59   December-2013   4058        520189   December  2013\n",
              "\n",
              "[60 rows x 5 columns]"
            ]
          },
          "metadata": {
            "tags": []
          },
          "execution_count": 81
        }
      ]
    },
    {
      "cell_type": "markdown",
      "metadata": {
        "id": "RjqTS9vqDqND"
      },
      "source": [
        "Create the pivot table with the columns generated"
      ]
    },
    {
      "cell_type": "code",
      "metadata": {
        "colab": {
          "base_uri": "https://localhost:8080/",
          "height": 437
        },
        "id": "AZAYbhHQnqYz",
        "outputId": "0cec8358-d8c1-4592-b0d0-bc5234ab4911"
      },
      "source": [
        "pivoted = TREB_DF.pivot(index=\"Month\", columns=\"Year\", values = \"Sales\")\n",
        "pivoted"
      ],
      "execution_count": 82,
      "outputs": [
        {
          "output_type": "execute_result",
          "data": {
            "text/html": [
              "<div>\n",
              "<style scoped>\n",
              "    .dataframe tbody tr th:only-of-type {\n",
              "        vertical-align: middle;\n",
              "    }\n",
              "\n",
              "    .dataframe tbody tr th {\n",
              "        vertical-align: top;\n",
              "    }\n",
              "\n",
              "    .dataframe thead th {\n",
              "        text-align: right;\n",
              "    }\n",
              "</style>\n",
              "<table border=\"1\" class=\"dataframe\">\n",
              "  <thead>\n",
              "    <tr style=\"text-align: right;\">\n",
              "      <th>Year</th>\n",
              "      <th>2013</th>\n",
              "      <th>2014</th>\n",
              "      <th>2015</th>\n",
              "      <th>2016</th>\n",
              "      <th>2017</th>\n",
              "    </tr>\n",
              "    <tr>\n",
              "      <th>Month</th>\n",
              "      <th></th>\n",
              "      <th></th>\n",
              "      <th></th>\n",
              "      <th></th>\n",
              "      <th></th>\n",
              "    </tr>\n",
              "  </thead>\n",
              "  <tbody>\n",
              "    <tr>\n",
              "      <th>April</th>\n",
              "      <td>9537</td>\n",
              "      <td>9660</td>\n",
              "      <td>11254</td>\n",
              "      <td>12016</td>\n",
              "      <td>11470</td>\n",
              "    </tr>\n",
              "    <tr>\n",
              "      <th>August</th>\n",
              "      <td>7390</td>\n",
              "      <td>7568</td>\n",
              "      <td>7943</td>\n",
              "      <td>9748</td>\n",
              "      <td>6310</td>\n",
              "    </tr>\n",
              "    <tr>\n",
              "      <th>December</th>\n",
              "      <td>4058</td>\n",
              "      <td>4418</td>\n",
              "      <td>4917</td>\n",
              "      <td>5305</td>\n",
              "      <td>4930</td>\n",
              "    </tr>\n",
              "    <tr>\n",
              "      <th>February</th>\n",
              "      <td>5615</td>\n",
              "      <td>5696</td>\n",
              "      <td>6294</td>\n",
              "      <td>7582</td>\n",
              "      <td>7955</td>\n",
              "    </tr>\n",
              "    <tr>\n",
              "      <th>January</th>\n",
              "      <td>4230</td>\n",
              "      <td>4103</td>\n",
              "      <td>4318</td>\n",
              "      <td>4640</td>\n",
              "      <td>5155</td>\n",
              "    </tr>\n",
              "    <tr>\n",
              "      <th>July</th>\n",
              "      <td>8367</td>\n",
              "      <td>9152</td>\n",
              "      <td>9813</td>\n",
              "      <td>9929</td>\n",
              "      <td>5871</td>\n",
              "    </tr>\n",
              "    <tr>\n",
              "      <th>June</th>\n",
              "      <td>8821</td>\n",
              "      <td>10132</td>\n",
              "      <td>11905</td>\n",
              "      <td>12725</td>\n",
              "      <td>7896</td>\n",
              "    </tr>\n",
              "    <tr>\n",
              "      <th>March</th>\n",
              "      <td>7536</td>\n",
              "      <td>8052</td>\n",
              "      <td>8886</td>\n",
              "      <td>10260</td>\n",
              "      <td>11959</td>\n",
              "    </tr>\n",
              "    <tr>\n",
              "      <th>May</th>\n",
              "      <td>9945</td>\n",
              "      <td>11013</td>\n",
              "      <td>11640</td>\n",
              "      <td>12789</td>\n",
              "      <td>10068</td>\n",
              "    </tr>\n",
              "    <tr>\n",
              "      <th>November</th>\n",
              "      <td>6354</td>\n",
              "      <td>6475</td>\n",
              "      <td>7337</td>\n",
              "      <td>8503</td>\n",
              "      <td>7353</td>\n",
              "    </tr>\n",
              "    <tr>\n",
              "      <th>October</th>\n",
              "      <td>7940</td>\n",
              "      <td>8512</td>\n",
              "      <td>8759</td>\n",
              "      <td>9715</td>\n",
              "      <td>7087</td>\n",
              "    </tr>\n",
              "    <tr>\n",
              "      <th>September</th>\n",
              "      <td>7256</td>\n",
              "      <td>8001</td>\n",
              "      <td>8147</td>\n",
              "      <td>9828</td>\n",
              "      <td>6340</td>\n",
              "    </tr>\n",
              "  </tbody>\n",
              "</table>\n",
              "</div>"
            ],
            "text/plain": [
              "Year       2013   2014   2015   2016   2017\n",
              "Month                                      \n",
              "April      9537   9660  11254  12016  11470\n",
              "August     7390   7568   7943   9748   6310\n",
              "December   4058   4418   4917   5305   4930\n",
              "February   5615   5696   6294   7582   7955\n",
              "January    4230   4103   4318   4640   5155\n",
              "July       8367   9152   9813   9929   5871\n",
              "June       8821  10132  11905  12725   7896\n",
              "March      7536   8052   8886  10260  11959\n",
              "May        9945  11013  11640  12789  10068\n",
              "November   6354   6475   7337   8503   7353\n",
              "October    7940   8512   8759   9715   7087\n",
              "September  7256   8001   8147   9828   6340"
            ]
          },
          "metadata": {
            "tags": []
          },
          "execution_count": 82
        }
      ]
    },
    {
      "cell_type": "markdown",
      "metadata": {
        "id": "NLQsV9n9Dup8"
      },
      "source": [
        "Order the index of the pivot table in sequence"
      ]
    },
    {
      "cell_type": "code",
      "metadata": {
        "colab": {
          "base_uri": "https://localhost:8080/",
          "height": 437
        },
        "id": "Vutp6tHyrNRq",
        "outputId": "7ddc74bc-2797-4b5a-a5a6-b9cedbcaaed7"
      },
      "source": [
        "months_ordered = ['January', 'February', 'March', 'April','May','June', 'July', 'August','September', 'October', 'November', 'December']\n",
        "pivoted.index = pd.CategoricalIndex(pivoted.index, categories=months_ordered, ordered=True)\n",
        "pivoted = pivoted.sort_index()\n",
        "pivoted"
      ],
      "execution_count": 83,
      "outputs": [
        {
          "output_type": "execute_result",
          "data": {
            "text/html": [
              "<div>\n",
              "<style scoped>\n",
              "    .dataframe tbody tr th:only-of-type {\n",
              "        vertical-align: middle;\n",
              "    }\n",
              "\n",
              "    .dataframe tbody tr th {\n",
              "        vertical-align: top;\n",
              "    }\n",
              "\n",
              "    .dataframe thead th {\n",
              "        text-align: right;\n",
              "    }\n",
              "</style>\n",
              "<table border=\"1\" class=\"dataframe\">\n",
              "  <thead>\n",
              "    <tr style=\"text-align: right;\">\n",
              "      <th>Year</th>\n",
              "      <th>2013</th>\n",
              "      <th>2014</th>\n",
              "      <th>2015</th>\n",
              "      <th>2016</th>\n",
              "      <th>2017</th>\n",
              "    </tr>\n",
              "    <tr>\n",
              "      <th>Month</th>\n",
              "      <th></th>\n",
              "      <th></th>\n",
              "      <th></th>\n",
              "      <th></th>\n",
              "      <th></th>\n",
              "    </tr>\n",
              "  </thead>\n",
              "  <tbody>\n",
              "    <tr>\n",
              "      <th>January</th>\n",
              "      <td>4230</td>\n",
              "      <td>4103</td>\n",
              "      <td>4318</td>\n",
              "      <td>4640</td>\n",
              "      <td>5155</td>\n",
              "    </tr>\n",
              "    <tr>\n",
              "      <th>February</th>\n",
              "      <td>5615</td>\n",
              "      <td>5696</td>\n",
              "      <td>6294</td>\n",
              "      <td>7582</td>\n",
              "      <td>7955</td>\n",
              "    </tr>\n",
              "    <tr>\n",
              "      <th>March</th>\n",
              "      <td>7536</td>\n",
              "      <td>8052</td>\n",
              "      <td>8886</td>\n",
              "      <td>10260</td>\n",
              "      <td>11959</td>\n",
              "    </tr>\n",
              "    <tr>\n",
              "      <th>April</th>\n",
              "      <td>9537</td>\n",
              "      <td>9660</td>\n",
              "      <td>11254</td>\n",
              "      <td>12016</td>\n",
              "      <td>11470</td>\n",
              "    </tr>\n",
              "    <tr>\n",
              "      <th>May</th>\n",
              "      <td>9945</td>\n",
              "      <td>11013</td>\n",
              "      <td>11640</td>\n",
              "      <td>12789</td>\n",
              "      <td>10068</td>\n",
              "    </tr>\n",
              "    <tr>\n",
              "      <th>June</th>\n",
              "      <td>8821</td>\n",
              "      <td>10132</td>\n",
              "      <td>11905</td>\n",
              "      <td>12725</td>\n",
              "      <td>7896</td>\n",
              "    </tr>\n",
              "    <tr>\n",
              "      <th>July</th>\n",
              "      <td>8367</td>\n",
              "      <td>9152</td>\n",
              "      <td>9813</td>\n",
              "      <td>9929</td>\n",
              "      <td>5871</td>\n",
              "    </tr>\n",
              "    <tr>\n",
              "      <th>August</th>\n",
              "      <td>7390</td>\n",
              "      <td>7568</td>\n",
              "      <td>7943</td>\n",
              "      <td>9748</td>\n",
              "      <td>6310</td>\n",
              "    </tr>\n",
              "    <tr>\n",
              "      <th>September</th>\n",
              "      <td>7256</td>\n",
              "      <td>8001</td>\n",
              "      <td>8147</td>\n",
              "      <td>9828</td>\n",
              "      <td>6340</td>\n",
              "    </tr>\n",
              "    <tr>\n",
              "      <th>October</th>\n",
              "      <td>7940</td>\n",
              "      <td>8512</td>\n",
              "      <td>8759</td>\n",
              "      <td>9715</td>\n",
              "      <td>7087</td>\n",
              "    </tr>\n",
              "    <tr>\n",
              "      <th>November</th>\n",
              "      <td>6354</td>\n",
              "      <td>6475</td>\n",
              "      <td>7337</td>\n",
              "      <td>8503</td>\n",
              "      <td>7353</td>\n",
              "    </tr>\n",
              "    <tr>\n",
              "      <th>December</th>\n",
              "      <td>4058</td>\n",
              "      <td>4418</td>\n",
              "      <td>4917</td>\n",
              "      <td>5305</td>\n",
              "      <td>4930</td>\n",
              "    </tr>\n",
              "  </tbody>\n",
              "</table>\n",
              "</div>"
            ],
            "text/plain": [
              "Year       2013   2014   2015   2016   2017\n",
              "Month                                      \n",
              "January    4230   4103   4318   4640   5155\n",
              "February   5615   5696   6294   7582   7955\n",
              "March      7536   8052   8886  10260  11959\n",
              "April      9537   9660  11254  12016  11470\n",
              "May        9945  11013  11640  12789  10068\n",
              "June       8821  10132  11905  12725   7896\n",
              "July       8367   9152   9813   9929   5871\n",
              "August     7390   7568   7943   9748   6310\n",
              "September  7256   8001   8147   9828   6340\n",
              "October    7940   8512   8759   9715   7087\n",
              "November   6354   6475   7337   8503   7353\n",
              "December   4058   4418   4917   5305   4930"
            ]
          },
          "metadata": {
            "tags": []
          },
          "execution_count": 83
        }
      ]
    },
    {
      "cell_type": "markdown",
      "metadata": {
        "id": "AE7wRn_c6LcP"
      },
      "source": [
        "### Question 2"
      ]
    },
    {
      "cell_type": "markdown",
      "metadata": {
        "id": "pO4n2qLxD581"
      },
      "source": [
        "Plot pivot table data"
      ]
    },
    {
      "cell_type": "code",
      "metadata": {
        "colab": {
          "base_uri": "https://localhost:8080/",
          "height": 312
        },
        "id": "bLerVsINpa-H",
        "outputId": "66340d18-e511-4c67-d4af-c64681eb933e"
      },
      "source": [
        "pivoted.plot()\n",
        "plt.ylabel(\"Monthly Sales\")\n",
        "plt.title(\"Monthly sales vs month of the year\")"
      ],
      "execution_count": 84,
      "outputs": [
        {
          "output_type": "execute_result",
          "data": {
            "text/plain": [
              "Text(0.5, 1.0, 'Monthly sales vs month of the year')"
            ]
          },
          "metadata": {
            "tags": []
          },
          "execution_count": 84
        },
        {
          "output_type": "display_data",
          "data": {
            "image/png": "[encoded data removed]",
            "text/plain": [
              "<Figure size 432x288 with 1 Axes>"
            ]
          },
          "metadata": {
            "tags": [],
            "needs_background": "light"
          }
        }
      ]
    },
    {
      "cell_type": "markdown",
      "metadata": {
        "id": "yaMuihmlsxi6"
      },
      "source": [
        "### Question 3"
      ]
    },
    {
      "cell_type": "markdown",
      "metadata": {
        "id": "URhp_AofCZH4"
      },
      "source": [
        "Calculate total sales by groupy"
      ]
    },
    {
      "cell_type": "code",
      "metadata": {
        "colab": {
          "base_uri": "https://localhost:8080/",
          "height": 227
        },
        "id": "es7k8vbztQvY",
        "outputId": "88b96be5-f399-4037-eed4-507b50b42efe"
      },
      "source": [
        "TREB_DF[['Sales','Year']].groupby(['Year']).sum()"
      ],
      "execution_count": 85,
      "outputs": [
        {
          "output_type": "execute_result",
          "data": {
            "text/html": [
              "<div>\n",
              "<style scoped>\n",
              "    .dataframe tbody tr th:only-of-type {\n",
              "        vertical-align: middle;\n",
              "    }\n",
              "\n",
              "    .dataframe tbody tr th {\n",
              "        vertical-align: top;\n",
              "    }\n",
              "\n",
              "    .dataframe thead th {\n",
              "        text-align: right;\n",
              "    }\n",
              "</style>\n",
              "<table border=\"1\" class=\"dataframe\">\n",
              "  <thead>\n",
              "    <tr style=\"text-align: right;\">\n",
              "      <th></th>\n",
              "      <th>Sales</th>\n",
              "    </tr>\n",
              "    <tr>\n",
              "      <th>Year</th>\n",
              "      <th></th>\n",
              "    </tr>\n",
              "  </thead>\n",
              "  <tbody>\n",
              "    <tr>\n",
              "      <th>2013</th>\n",
              "      <td>87049</td>\n",
              "    </tr>\n",
              "    <tr>\n",
              "      <th>2014</th>\n",
              "      <td>92782</td>\n",
              "    </tr>\n",
              "    <tr>\n",
              "      <th>2015</th>\n",
              "      <td>101213</td>\n",
              "    </tr>\n",
              "    <tr>\n",
              "      <th>2016</th>\n",
              "      <td>113040</td>\n",
              "    </tr>\n",
              "    <tr>\n",
              "      <th>2017</th>\n",
              "      <td>92394</td>\n",
              "    </tr>\n",
              "  </tbody>\n",
              "</table>\n",
              "</div>"
            ],
            "text/plain": [
              "       Sales\n",
              "Year        \n",
              "2013   87049\n",
              "2014   92782\n",
              "2015  101213\n",
              "2016  113040\n",
              "2017   92394"
            ]
          },
          "metadata": {
            "tags": []
          },
          "execution_count": 85
        }
      ]
    },
    {
      "cell_type": "markdown",
      "metadata": {
        "id": "XG0Sd37ECcT7"
      },
      "source": [
        "Calculate total sales by pivot table"
      ]
    },
    {
      "cell_type": "code",
      "metadata": {
        "colab": {
          "base_uri": "https://localhost:8080/"
        },
        "id": "92VdDmVIszBc",
        "outputId": "9336e2db-70ae-44f1-8af7-0734a8b318e2"
      },
      "source": [
        "total_sales_method2 = pivoted.sum()\n",
        "total_sales_method2"
      ],
      "execution_count": 86,
      "outputs": [
        {
          "output_type": "execute_result",
          "data": {
            "text/plain": [
              "Year\n",
              "2013     87049\n",
              "2014     92782\n",
              "2015    101213\n",
              "2016    113040\n",
              "2017     92394\n",
              "dtype: int64"
            ]
          },
          "metadata": {
            "tags": []
          },
          "execution_count": 86
        }
      ]
    },
    {
      "cell_type": "code",
      "metadata": {
        "colab": {
          "base_uri": "https://localhost:8080/",
          "height": 328
        },
        "id": "-NKUP8CcCp2P",
        "outputId": "5d532a5f-e042-4264-b665-610b3628d7a0"
      },
      "source": [
        "total_sales_method2.plot.bar()\n",
        "plt.ylabel(\"Sales\")\n",
        "plt.title(\"Bar chart: total sales per year\")"
      ],
      "execution_count": 87,
      "outputs": [
        {
          "output_type": "execute_result",
          "data": {
            "text/plain": [
              "Text(0.5, 1.0, 'Bar chart: total sales per year')"
            ]
          },
          "metadata": {
            "tags": []
          },
          "execution_count": 87
        },
        {
          "output_type": "display_data",
          "data": {
            "image/png": "[encoded data removed]",
            "text/plain": [
              "<Figure size 432x288 with 1 Axes>"
            ]
          },
          "metadata": {
            "tags": [],
            "needs_background": "light"
          }
        }
      ]
    }
  ]
}